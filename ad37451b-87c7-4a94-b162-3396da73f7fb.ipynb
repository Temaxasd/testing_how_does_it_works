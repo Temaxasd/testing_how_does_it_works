{
 "cells": [
  {
   "cell_type": "markdown",
   "id": "7f86a645",
   "metadata": {},
   "source": [
    "<div style=\"background:#d4d6fa; color:#000; padding:10px\">\n",
    "    <p><big><b> Комментарий тимлида: </b></big></p> \n",
    "\n",
    "Привет! Я буду использовать стандартную цветовую разметку комментариев:\n",
    "    \n",
    "<div class=\"alert alert-success\">\n",
    "        <strong>Зелёным</strong> цветом я буду выделять удачные и элегантные решения, на которые можно опираться в будущих проектах. \n",
    "    </div> \n",
    "    <div class=\"alert alert-warning\">\n",
    "        <strong>Желтым</strong> будет выделено то, что в следующий раз стоит сделать по-другому. Одно-два таких замечаний в проекте допустимы, но если их будет больше, то нужно будет внести изменения.\n",
    "    </div>\n",
    "    <div class=\"alert alert-danger\">\n",
    "        <strong>Красным</strong> - то, что необходимо исправить, прежде чем я смогу принять твой проект.\n",
    "    </div> \n",
    "\n",
    "    \n",
    "Лично я тоже предпочитаю сначала согласовать проект, а уже потом оформлять презентацию. \n",
    "    \n",
    "    \n",
    "</div>"
   ]
  },
  {
   "cell_type": "markdown",
   "id": "1e7ed4ee",
   "metadata": {},
   "source": [
    "<div style=\"background:#d4d6fa;color:#000; padding:10px; margin-top:10px\">\n",
    "    <p><big><b> Итоговый Комментарий тимлида:</b></big></p>\n",
    "    \n",
    "**Проект** - **почти зачтено**\n",
    "    \n",
    "Довольно хороший проект. Само исследование - ок. Я немного не согласен с тем, что окупать нам нужно только «прошедших». Как минимум по тому, что «непрошедших» более половины, и мы не можем пренебрегать этими данными. подробнее написал в блоке с исследованием.\n",
    "    \n",
    "И нужно будет немного доработать формулировки стат. гипотез. Я считаю, что очень важно различать такие два понятия, как «рабочая» и «статистическая» гипотеза, и корректно формулировать каждую. Так, рабочая может звучать в весьма свободном формате, а вот статистическая должна быть согласована с используемым стат. тестом.\n",
    "    \n",
    "   \n",
    "Уверен, правки, о которых я писал, сильно не изменят результаты, так что можешь смело готовить презентацию. Кстати про результаты - там хочу похвалить. Ты ответил на основной вопрос заказчика и притом с хорошей аргументацией.     \n",
    "    \n",
    "\n",
    "\n",
    "</div>\n"
   ]
  },
  {
   "cell_type": "markdown",
   "id": "8997c5c4",
   "metadata": {},
   "source": [
    "<div class=\"alert alert-warning\">\n",
    "    <p><b>Комментарий тимлида: </b></p>\n",
    "    \n",
    "Любой проект достоин иметь введение. Там ты можешь дать читателю весь начальный контекст задачи, который необходим для её лучшего понимания.\n",
    "</div>\n"
   ]
  },
  {
   "cell_type": "markdown",
   "id": "bbbaceef",
   "metadata": {},
   "source": [
    "# Выпускной проект: Анализ рекламных источников мобильной игры «Космические братья»\n",
    "\n",
    "Давайте примерим на себя роль гуру аналитики и поможем заказчикам (ответственным за принятие решение в игре людям) проранжировать рекламные источники по имеющимся данным. \n",
    "\n",
    "Основной датасет содержит данные о событиях, совершенных в мобильной игре «Космические братья». В ней пользователи строят свою космическую программу и пытаются преуспеть в нелёгком деле колонизации галактики.\n",
    "\n",
    "Основная монетизация игры — только планируется. Но предполагается, что в приложении будет происходить показ рекламы на экране с выбором типа объекта для постройки.\n",
    "\n",
    "В датасете представлены данные по игре пользователей на первом уровне. Завершение первого уровня требует от игрока выполнения одного из двух условий:\n",
    "\n",
    "- Победа над первым врагом;\n",
    "\n",
    "- Реализация проекта - разработка орбитальной сборки спутников.\n",
    "\n",
    "В датасете содержатся данные первых пользователей приложения — когорты пользователей, которые начали пользоваться приложением в период с 4 по 10 мая включительно.\n",
    "\n",
    "Датасет *game_actions.csv*:\n",
    "\n",
    "- **event_datetime** — время события;\n",
    "\n",
    "\n",
    "- **event** — одно из трёх событий:\n",
    "    \n",
    "    1) building — объект построен,\n",
    "    \n",
    "    2) finished_stage_1 — первый уровень завершён,\n",
    "    \n",
    "    3) project — проект завершён;\n",
    "    \n",
    "    \n",
    "- **building_type** — один из трёх типов здания:\n",
    "\n",
    "\n",
    "    1) assembly_shop — сборочный цех,\n",
    "    \n",
    "    2) spaceport — космопорт,\n",
    "    \n",
    "    3) research_center — исследовательский центр;\n",
    "    \n",
    "    \n",
    "- **user_id** — идентификатор пользователя;\n",
    "\n",
    "\n",
    "- **project_type** — тип реализованного проекта;\n",
    "\n",
    "\n",
    "Помимо основного датасета есть два датасета с информацией о рекламных активностях. Они также помогут в решении задачи.\n",
    "\n",
    "Датасет *ad_cost.csv*:\n",
    "\n",
    "\n",
    "- **day** - день, в который был совершен клик по объявлению,\n",
    "\n",
    "- **source** - источник трафика,\n",
    "\n",
    "- **cost** - стоимость кликов;\n",
    "\n",
    "\n",
    "Датасет user_source.csv содержит колонки:\n",
    "\n",
    "- **user_id** - идентификатор пользователя,\n",
    "\n",
    "- **source** - источников, с которого пришёл пользователь, установивший приложение;"
   ]
  },
  {
   "cell_type": "markdown",
   "id": "491b1add",
   "metadata": {},
   "source": [
    "# Содержание \n",
    "\n",
    "- [Открытие файлов с данными, изучение информации, подготовка данных](#step1)\n",
    "\n",
    "\n",
    "- [Изучение и проверка данных](#step2)\n",
    "\n",
    "\n",
    "- [Ранжирование источников привлечения](#step3)\n",
    "\n",
    "\n",
    "- [Проверка гипотез](#step4)\n",
    "\n",
    "\n",
    "- [Общий вывод по проекту](#step5)"
   ]
  },
  {
   "cell_type": "markdown",
   "id": "146028f6",
   "metadata": {},
   "source": [
    "<a id=\"step1\"></a>\n",
    "# Открытие файлов с данными, изучение информации, подготовка данных"
   ]
  },
  {
   "cell_type": "code",
   "execution_count": 1,
   "id": "d55e8aeb",
   "metadata": {},
   "outputs": [],
   "source": [
    "# Вводим необходимые для работы библиотеки\n",
    "import pandas as pd\n",
    "import matplotlib.pyplot as plt\n",
    "import seaborn as sns\n",
    "from scipy import stats as st"
   ]
  },
  {
   "cell_type": "code",
   "execution_count": 2,
   "id": "8da2d8ff",
   "metadata": {},
   "outputs": [],
   "source": [
    "# Отключим сообщения об ошибках\n",
    "import warnings\n",
    "warnings.filterwarnings('ignore')\n",
    "# Удалим ограничение количества отображаемых в таблице столбцов\n",
    "pd.set_option('display.max_columns', None)"
   ]
  },
  {
   "cell_type": "code",
   "execution_count": 3,
   "id": "f155f670",
   "metadata": {},
   "outputs": [],
   "source": [
    "# Указываем путь до файла (индивидуально у каждого пользователя)\n",
    "path_to_events = 'game_actions111.csv' \n",
    "try:\n",
    "    events = pd.read_csv(path_to_events)\n",
    "except:\n",
    "    print('Wrong filepath')"
   ]
  },
  {
   "cell_type": "code",
   "execution_count": 4,
   "id": "d83e75b9",
   "metadata": {},
   "outputs": [
    {
     "data": {
      "text/html": [
       "<div>\n",
       "<style scoped>\n",
       "    .dataframe tbody tr th:only-of-type {\n",
       "        vertical-align: middle;\n",
       "    }\n",
       "\n",
       "    .dataframe tbody tr th {\n",
       "        vertical-align: top;\n",
       "    }\n",
       "\n",
       "    .dataframe thead th {\n",
       "        text-align: right;\n",
       "    }\n",
       "</style>\n",
       "<table border=\"1\" class=\"dataframe\">\n",
       "  <thead>\n",
       "    <tr style=\"text-align: right;\">\n",
       "      <th></th>\n",
       "      <th>event_datetime</th>\n",
       "      <th>event</th>\n",
       "      <th>building_type</th>\n",
       "      <th>user_id</th>\n",
       "      <th>project_type</th>\n",
       "    </tr>\n",
       "  </thead>\n",
       "  <tbody>\n",
       "    <tr>\n",
       "      <th>0</th>\n",
       "      <td>2020-05-04 00:00:01</td>\n",
       "      <td>building</td>\n",
       "      <td>assembly_shop</td>\n",
       "      <td>55e92310-cb8e-4754-b622-597e124b03de</td>\n",
       "      <td>NaN</td>\n",
       "    </tr>\n",
       "    <tr>\n",
       "      <th>1</th>\n",
       "      <td>2020-05-04 00:00:03</td>\n",
       "      <td>building</td>\n",
       "      <td>assembly_shop</td>\n",
       "      <td>c07b1c10-f477-44dc-81dc-ec82254b1347</td>\n",
       "      <td>NaN</td>\n",
       "    </tr>\n",
       "    <tr>\n",
       "      <th>2</th>\n",
       "      <td>2020-05-04 00:00:16</td>\n",
       "      <td>building</td>\n",
       "      <td>assembly_shop</td>\n",
       "      <td>6edd42cc-e753-4ff6-a947-2107cd560710</td>\n",
       "      <td>NaN</td>\n",
       "    </tr>\n",
       "    <tr>\n",
       "      <th>3</th>\n",
       "      <td>2020-05-04 00:00:16</td>\n",
       "      <td>building</td>\n",
       "      <td>assembly_shop</td>\n",
       "      <td>92c69003-d60a-444a-827f-8cc51bf6bf4c</td>\n",
       "      <td>NaN</td>\n",
       "    </tr>\n",
       "    <tr>\n",
       "      <th>4</th>\n",
       "      <td>2020-05-04 00:00:35</td>\n",
       "      <td>building</td>\n",
       "      <td>assembly_shop</td>\n",
       "      <td>cdc6bb92-0ccb-4490-9866-ef142f09139d</td>\n",
       "      <td>NaN</td>\n",
       "    </tr>\n",
       "  </tbody>\n",
       "</table>\n",
       "</div>"
      ],
      "text/plain": [
       "        event_datetime     event  building_type  \\\n",
       "0  2020-05-04 00:00:01  building  assembly_shop   \n",
       "1  2020-05-04 00:00:03  building  assembly_shop   \n",
       "2  2020-05-04 00:00:16  building  assembly_shop   \n",
       "3  2020-05-04 00:00:16  building  assembly_shop   \n",
       "4  2020-05-04 00:00:35  building  assembly_shop   \n",
       "\n",
       "                                user_id project_type  \n",
       "0  55e92310-cb8e-4754-b622-597e124b03de          NaN  \n",
       "1  c07b1c10-f477-44dc-81dc-ec82254b1347          NaN  \n",
       "2  6edd42cc-e753-4ff6-a947-2107cd560710          NaN  \n",
       "3  92c69003-d60a-444a-827f-8cc51bf6bf4c          NaN  \n",
       "4  cdc6bb92-0ccb-4490-9866-ef142f09139d          NaN  "
      ]
     },
     "execution_count": 4,
     "metadata": {},
     "output_type": "execute_result"
    }
   ],
   "source": [
    "# Выводим первые 5 строчек\n",
    "events.head()"
   ]
  },
  {
   "cell_type": "code",
   "execution_count": 5,
   "id": "9e89e44c",
   "metadata": {},
   "outputs": [
    {
     "name": "stdout",
     "output_type": "stream",
     "text": [
      "<class 'pandas.core.frame.DataFrame'>\n",
      "RangeIndex: 135640 entries, 0 to 135639\n",
      "Data columns (total 5 columns):\n",
      " #   Column          Non-Null Count   Dtype \n",
      "---  ------          --------------   ----- \n",
      " 0   event_datetime  135640 non-null  object\n",
      " 1   event           135640 non-null  object\n",
      " 2   building_type   127957 non-null  object\n",
      " 3   user_id         135640 non-null  object\n",
      " 4   project_type    1866 non-null    object\n",
      "dtypes: object(5)\n",
      "memory usage: 5.2+ MB\n"
     ]
    }
   ],
   "source": [
    "# Изучим состав нашего df\n",
    "events.info()"
   ]
  },
  {
   "cell_type": "markdown",
   "id": "4c2cc2a8",
   "metadata": {},
   "source": [
    "В нашем df 135640 строчек, пропуски есть в столбцах: building_type и project_type (чуть позже рассмотрим их природу).\n",
    "\n",
    "Cменим тип данных колонки event_datetime на datetime[ns]"
   ]
  },
  {
   "cell_type": "code",
   "execution_count": 6,
   "id": "3537845f",
   "metadata": {},
   "outputs": [
    {
     "name": "stdout",
     "output_type": "stream",
     "text": [
      "<class 'pandas.core.frame.DataFrame'>\n",
      "RangeIndex: 135640 entries, 0 to 135639\n",
      "Data columns (total 5 columns):\n",
      " #   Column          Non-Null Count   Dtype         \n",
      "---  ------          --------------   -----         \n",
      " 0   event_datetime  135640 non-null  datetime64[ns]\n",
      " 1   event           135640 non-null  object        \n",
      " 2   building_type   127957 non-null  object        \n",
      " 3   user_id         135640 non-null  object        \n",
      " 4   project_type    1866 non-null    object        \n",
      "dtypes: datetime64[ns](1), object(4)\n",
      "memory usage: 5.2+ MB\n"
     ]
    }
   ],
   "source": [
    "events['event_datetime'] = pd.to_datetime(events['event_datetime'])\n",
    "events.info()"
   ]
  },
  {
   "cell_type": "code",
   "execution_count": 7,
   "id": "b31358e6",
   "metadata": {},
   "outputs": [
    {
     "data": {
      "text/html": [
       "<div>\n",
       "<style scoped>\n",
       "    .dataframe tbody tr th:only-of-type {\n",
       "        vertical-align: middle;\n",
       "    }\n",
       "\n",
       "    .dataframe tbody tr th {\n",
       "        vertical-align: top;\n",
       "    }\n",
       "\n",
       "    .dataframe thead th {\n",
       "        text-align: right;\n",
       "    }\n",
       "</style>\n",
       "<table border=\"1\" class=\"dataframe\">\n",
       "  <thead>\n",
       "    <tr style=\"text-align: right;\">\n",
       "      <th></th>\n",
       "      <th>event_datetime</th>\n",
       "      <th>event</th>\n",
       "      <th>building_type</th>\n",
       "      <th>user_id</th>\n",
       "      <th>project_type</th>\n",
       "    </tr>\n",
       "  </thead>\n",
       "  <tbody>\n",
       "    <tr>\n",
       "      <th>6659</th>\n",
       "      <td>2020-05-04 19:47:29</td>\n",
       "      <td>finished_stage_1</td>\n",
       "      <td>NaN</td>\n",
       "      <td>ced7b368-818f-48f6-9461-2346de0892c5</td>\n",
       "      <td>NaN</td>\n",
       "    </tr>\n",
       "    <tr>\n",
       "      <th>13134</th>\n",
       "      <td>2020-05-05 13:22:09</td>\n",
       "      <td>finished_stage_1</td>\n",
       "      <td>NaN</td>\n",
       "      <td>7ef7fc89-2779-46ea-b328-9e5035b83af5</td>\n",
       "      <td>NaN</td>\n",
       "    </tr>\n",
       "    <tr>\n",
       "      <th>15274</th>\n",
       "      <td>2020-05-05 18:54:37</td>\n",
       "      <td>finished_stage_1</td>\n",
       "      <td>NaN</td>\n",
       "      <td>70db22b3-c2f4-43bc-94ea-51c8d2904a29</td>\n",
       "      <td>NaN</td>\n",
       "    </tr>\n",
       "    <tr>\n",
       "      <th>16284</th>\n",
       "      <td>2020-05-05 21:27:29</td>\n",
       "      <td>finished_stage_1</td>\n",
       "      <td>NaN</td>\n",
       "      <td>903fc9ef-ba97-4b12-9d5c-ac8d602fbd8b</td>\n",
       "      <td>NaN</td>\n",
       "    </tr>\n",
       "    <tr>\n",
       "      <th>19650</th>\n",
       "      <td>2020-05-06 06:02:22</td>\n",
       "      <td>finished_stage_1</td>\n",
       "      <td>NaN</td>\n",
       "      <td>58e077ba-feb1-4556-a5a0-d96bd04efa39</td>\n",
       "      <td>NaN</td>\n",
       "    </tr>\n",
       "    <tr>\n",
       "      <th>...</th>\n",
       "      <td>...</td>\n",
       "      <td>...</td>\n",
       "      <td>...</td>\n",
       "      <td>...</td>\n",
       "      <td>...</td>\n",
       "    </tr>\n",
       "    <tr>\n",
       "      <th>135632</th>\n",
       "      <td>2020-06-04 15:50:38</td>\n",
       "      <td>finished_stage_1</td>\n",
       "      <td>NaN</td>\n",
       "      <td>22cce310-fe10-41a2-941b-9c3d63327fea</td>\n",
       "      <td>NaN</td>\n",
       "    </tr>\n",
       "    <tr>\n",
       "      <th>135633</th>\n",
       "      <td>2020-06-04 17:56:14</td>\n",
       "      <td>finished_stage_1</td>\n",
       "      <td>NaN</td>\n",
       "      <td>d477dde8-7c22-4f23-9c4f-4ec31a1aa4c8</td>\n",
       "      <td>NaN</td>\n",
       "    </tr>\n",
       "    <tr>\n",
       "      <th>135636</th>\n",
       "      <td>2020-06-05 02:25:12</td>\n",
       "      <td>finished_stage_1</td>\n",
       "      <td>NaN</td>\n",
       "      <td>515c1952-99aa-4bca-a7ea-d0449eb5385a</td>\n",
       "      <td>NaN</td>\n",
       "    </tr>\n",
       "    <tr>\n",
       "      <th>135638</th>\n",
       "      <td>2020-06-05 12:12:27</td>\n",
       "      <td>finished_stage_1</td>\n",
       "      <td>NaN</td>\n",
       "      <td>32572adb-900f-4b5d-a453-1eb1e6d88d8b</td>\n",
       "      <td>NaN</td>\n",
       "    </tr>\n",
       "    <tr>\n",
       "      <th>135639</th>\n",
       "      <td>2020-06-05 12:32:49</td>\n",
       "      <td>finished_stage_1</td>\n",
       "      <td>NaN</td>\n",
       "      <td>f21d179f-1c4b-437e-b9c6-ab1976907195</td>\n",
       "      <td>NaN</td>\n",
       "    </tr>\n",
       "  </tbody>\n",
       "</table>\n",
       "<p>7683 rows × 5 columns</p>\n",
       "</div>"
      ],
      "text/plain": [
       "            event_datetime             event building_type  \\\n",
       "6659   2020-05-04 19:47:29  finished_stage_1           NaN   \n",
       "13134  2020-05-05 13:22:09  finished_stage_1           NaN   \n",
       "15274  2020-05-05 18:54:37  finished_stage_1           NaN   \n",
       "16284  2020-05-05 21:27:29  finished_stage_1           NaN   \n",
       "19650  2020-05-06 06:02:22  finished_stage_1           NaN   \n",
       "...                    ...               ...           ...   \n",
       "135632 2020-06-04 15:50:38  finished_stage_1           NaN   \n",
       "135633 2020-06-04 17:56:14  finished_stage_1           NaN   \n",
       "135636 2020-06-05 02:25:12  finished_stage_1           NaN   \n",
       "135638 2020-06-05 12:12:27  finished_stage_1           NaN   \n",
       "135639 2020-06-05 12:32:49  finished_stage_1           NaN   \n",
       "\n",
       "                                     user_id project_type  \n",
       "6659    ced7b368-818f-48f6-9461-2346de0892c5          NaN  \n",
       "13134   7ef7fc89-2779-46ea-b328-9e5035b83af5          NaN  \n",
       "15274   70db22b3-c2f4-43bc-94ea-51c8d2904a29          NaN  \n",
       "16284   903fc9ef-ba97-4b12-9d5c-ac8d602fbd8b          NaN  \n",
       "19650   58e077ba-feb1-4556-a5a0-d96bd04efa39          NaN  \n",
       "...                                      ...          ...  \n",
       "135632  22cce310-fe10-41a2-941b-9c3d63327fea          NaN  \n",
       "135633  d477dde8-7c22-4f23-9c4f-4ec31a1aa4c8          NaN  \n",
       "135636  515c1952-99aa-4bca-a7ea-d0449eb5385a          NaN  \n",
       "135638  32572adb-900f-4b5d-a453-1eb1e6d88d8b          NaN  \n",
       "135639  f21d179f-1c4b-437e-b9c6-ab1976907195          NaN  \n",
       "\n",
       "[7683 rows x 5 columns]"
      ]
     },
     "execution_count": 7,
     "metadata": {},
     "output_type": "execute_result"
    }
   ],
   "source": [
    "# Взглянем на пропуски в столбце builing_type\n",
    "events[events['building_type'].isna()]"
   ]
  },
  {
   "cell_type": "code",
   "execution_count": 8,
   "id": "5456bff6",
   "metadata": {},
   "outputs": [
    {
     "data": {
      "text/plain": [
       "array(['finished_stage_1', 'project'], dtype=object)"
      ]
     },
     "execution_count": 8,
     "metadata": {},
     "output_type": "execute_result"
    }
   ],
   "source": [
    "events[events['building_type'].isna()]['event'].unique()"
   ]
  },
  {
   "cell_type": "markdown",
   "id": "4551d612",
   "metadata": {},
   "source": [
    "Пропуски в столбце building_type появляются только в случае завершения первого уровня или постройки проекта. Обрабатывать их не нужно"
   ]
  },
  {
   "cell_type": "code",
   "execution_count": 9,
   "id": "79fd2756",
   "metadata": {},
   "outputs": [
    {
     "data": {
      "text/html": [
       "<div>\n",
       "<style scoped>\n",
       "    .dataframe tbody tr th:only-of-type {\n",
       "        vertical-align: middle;\n",
       "    }\n",
       "\n",
       "    .dataframe tbody tr th {\n",
       "        vertical-align: top;\n",
       "    }\n",
       "\n",
       "    .dataframe thead th {\n",
       "        text-align: right;\n",
       "    }\n",
       "</style>\n",
       "<table border=\"1\" class=\"dataframe\">\n",
       "  <thead>\n",
       "    <tr style=\"text-align: right;\">\n",
       "      <th></th>\n",
       "      <th>event_datetime</th>\n",
       "      <th>event</th>\n",
       "      <th>building_type</th>\n",
       "      <th>user_id</th>\n",
       "      <th>project_type</th>\n",
       "    </tr>\n",
       "  </thead>\n",
       "  <tbody>\n",
       "    <tr>\n",
       "      <th>47121</th>\n",
       "      <td>2020-05-08 18:10:25</td>\n",
       "      <td>project</td>\n",
       "      <td>NaN</td>\n",
       "      <td>e3c66498-9d45-4000-9392-f81e6796e7da</td>\n",
       "      <td>satellite_orbital_assembly</td>\n",
       "    </tr>\n",
       "    <tr>\n",
       "      <th>57398</th>\n",
       "      <td>2020-05-09 13:49:11</td>\n",
       "      <td>project</td>\n",
       "      <td>NaN</td>\n",
       "      <td>936e7af6-8338-4703-a1df-fc6c3f5b8e34</td>\n",
       "      <td>satellite_orbital_assembly</td>\n",
       "    </tr>\n",
       "    <tr>\n",
       "      <th>58797</th>\n",
       "      <td>2020-05-09 16:19:33</td>\n",
       "      <td>project</td>\n",
       "      <td>NaN</td>\n",
       "      <td>a4491c86-c498-4f74-a56e-65c136d0e9a1</td>\n",
       "      <td>satellite_orbital_assembly</td>\n",
       "    </tr>\n",
       "    <tr>\n",
       "      <th>61174</th>\n",
       "      <td>2020-05-09 20:29:01</td>\n",
       "      <td>project</td>\n",
       "      <td>NaN</td>\n",
       "      <td>85d9e675-562b-4329-8bbd-14d3b39096be</td>\n",
       "      <td>satellite_orbital_assembly</td>\n",
       "    </tr>\n",
       "    <tr>\n",
       "      <th>63770</th>\n",
       "      <td>2020-05-10 00:57:47</td>\n",
       "      <td>project</td>\n",
       "      <td>NaN</td>\n",
       "      <td>1889ca71-3c57-4e61-9ea6-a711971bbf0a</td>\n",
       "      <td>satellite_orbital_assembly</td>\n",
       "    </tr>\n",
       "    <tr>\n",
       "      <th>...</th>\n",
       "      <td>...</td>\n",
       "      <td>...</td>\n",
       "      <td>...</td>\n",
       "      <td>...</td>\n",
       "      <td>...</td>\n",
       "    </tr>\n",
       "    <tr>\n",
       "      <th>135602</th>\n",
       "      <td>2020-06-02 03:04:42</td>\n",
       "      <td>project</td>\n",
       "      <td>NaN</td>\n",
       "      <td>9d98001c-7e14-40d7-896e-46b3047365fd</td>\n",
       "      <td>satellite_orbital_assembly</td>\n",
       "    </tr>\n",
       "    <tr>\n",
       "      <th>135603</th>\n",
       "      <td>2020-06-02 06:21:03</td>\n",
       "      <td>project</td>\n",
       "      <td>NaN</td>\n",
       "      <td>df4a1e13-eba9-4928-a7cf-ee303d6f80f9</td>\n",
       "      <td>satellite_orbital_assembly</td>\n",
       "    </tr>\n",
       "    <tr>\n",
       "      <th>135609</th>\n",
       "      <td>2020-06-02 17:17:28</td>\n",
       "      <td>project</td>\n",
       "      <td>NaN</td>\n",
       "      <td>82e46f34-e243-4728-8e20-2e171fc33ea4</td>\n",
       "      <td>satellite_orbital_assembly</td>\n",
       "    </tr>\n",
       "    <tr>\n",
       "      <th>135617</th>\n",
       "      <td>2020-06-03 09:46:04</td>\n",
       "      <td>project</td>\n",
       "      <td>NaN</td>\n",
       "      <td>fe032991-71e0-48c5-889f-4c3805ba4c9b</td>\n",
       "      <td>satellite_orbital_assembly</td>\n",
       "    </tr>\n",
       "    <tr>\n",
       "      <th>135630</th>\n",
       "      <td>2020-06-04 08:29:42</td>\n",
       "      <td>project</td>\n",
       "      <td>NaN</td>\n",
       "      <td>d477dde8-7c22-4f23-9c4f-4ec31a1aa4c8</td>\n",
       "      <td>satellite_orbital_assembly</td>\n",
       "    </tr>\n",
       "  </tbody>\n",
       "</table>\n",
       "<p>1866 rows × 5 columns</p>\n",
       "</div>"
      ],
      "text/plain": [
       "            event_datetime    event building_type  \\\n",
       "47121  2020-05-08 18:10:25  project           NaN   \n",
       "57398  2020-05-09 13:49:11  project           NaN   \n",
       "58797  2020-05-09 16:19:33  project           NaN   \n",
       "61174  2020-05-09 20:29:01  project           NaN   \n",
       "63770  2020-05-10 00:57:47  project           NaN   \n",
       "...                    ...      ...           ...   \n",
       "135602 2020-06-02 03:04:42  project           NaN   \n",
       "135603 2020-06-02 06:21:03  project           NaN   \n",
       "135609 2020-06-02 17:17:28  project           NaN   \n",
       "135617 2020-06-03 09:46:04  project           NaN   \n",
       "135630 2020-06-04 08:29:42  project           NaN   \n",
       "\n",
       "                                     user_id                project_type  \n",
       "47121   e3c66498-9d45-4000-9392-f81e6796e7da  satellite_orbital_assembly  \n",
       "57398   936e7af6-8338-4703-a1df-fc6c3f5b8e34  satellite_orbital_assembly  \n",
       "58797   a4491c86-c498-4f74-a56e-65c136d0e9a1  satellite_orbital_assembly  \n",
       "61174   85d9e675-562b-4329-8bbd-14d3b39096be  satellite_orbital_assembly  \n",
       "63770   1889ca71-3c57-4e61-9ea6-a711971bbf0a  satellite_orbital_assembly  \n",
       "...                                      ...                         ...  \n",
       "135602  9d98001c-7e14-40d7-896e-46b3047365fd  satellite_orbital_assembly  \n",
       "135603  df4a1e13-eba9-4928-a7cf-ee303d6f80f9  satellite_orbital_assembly  \n",
       "135609  82e46f34-e243-4728-8e20-2e171fc33ea4  satellite_orbital_assembly  \n",
       "135617  fe032991-71e0-48c5-889f-4c3805ba4c9b  satellite_orbital_assembly  \n",
       "135630  d477dde8-7c22-4f23-9c4f-4ec31a1aa4c8  satellite_orbital_assembly  \n",
       "\n",
       "[1866 rows x 5 columns]"
      ]
     },
     "execution_count": 9,
     "metadata": {},
     "output_type": "execute_result"
    }
   ],
   "source": [
    "# Посмотрим на строки с заполненным project_type\n",
    "events[events['project_type'].notnull()]"
   ]
  },
  {
   "cell_type": "markdown",
   "id": "bd5800ab",
   "metadata": {},
   "source": [
    "<div class=\"alert alert-success\">\n",
    "    <p><b>Комментарий тимлида: </b></p>\n",
    "    \n",
    "Верно, важно было сказать, что пропуски обусловлены механикой сбора данных и не являются ошибками.\n",
    "</div> "
   ]
  },
  {
   "cell_type": "markdown",
   "id": "3d7ea9bb",
   "metadata": {},
   "source": [
    "Во всех случаях, кроме события project столбец project_type будет пустым. Обрабатывать эти проспуски не нужно.\n",
    "\n",
    "Изучим df на наличие дубликатов."
   ]
  },
  {
   "cell_type": "code",
   "execution_count": 10,
   "id": "65596cdf",
   "metadata": {},
   "outputs": [
    {
     "data": {
      "text/plain": [
       "1"
      ]
     },
     "execution_count": 10,
     "metadata": {},
     "output_type": "execute_result"
    }
   ],
   "source": [
    "events.duplicated().sum()"
   ]
  },
  {
   "cell_type": "code",
   "execution_count": 11,
   "id": "9c82b6d7",
   "metadata": {},
   "outputs": [
    {
     "data": {
      "text/html": [
       "<div>\n",
       "<style scoped>\n",
       "    .dataframe tbody tr th:only-of-type {\n",
       "        vertical-align: middle;\n",
       "    }\n",
       "\n",
       "    .dataframe tbody tr th {\n",
       "        vertical-align: top;\n",
       "    }\n",
       "\n",
       "    .dataframe thead th {\n",
       "        text-align: right;\n",
       "    }\n",
       "</style>\n",
       "<table border=\"1\" class=\"dataframe\">\n",
       "  <thead>\n",
       "    <tr style=\"text-align: right;\">\n",
       "      <th></th>\n",
       "      <th>event_datetime</th>\n",
       "      <th>event</th>\n",
       "      <th>building_type</th>\n",
       "      <th>user_id</th>\n",
       "      <th>project_type</th>\n",
       "    </tr>\n",
       "  </thead>\n",
       "  <tbody>\n",
       "    <tr>\n",
       "      <th>74891</th>\n",
       "      <td>2020-05-10 18:41:56</td>\n",
       "      <td>building</td>\n",
       "      <td>research_center</td>\n",
       "      <td>c9af55d2-b0ae-4bb4-b3d5-f32aa9ac03af</td>\n",
       "      <td>NaN</td>\n",
       "    </tr>\n",
       "  </tbody>\n",
       "</table>\n",
       "</div>"
      ],
      "text/plain": [
       "           event_datetime     event    building_type  \\\n",
       "74891 2020-05-10 18:41:56  building  research_center   \n",
       "\n",
       "                                    user_id project_type  \n",
       "74891  c9af55d2-b0ae-4bb4-b3d5-f32aa9ac03af          NaN  "
      ]
     },
     "execution_count": 11,
     "metadata": {},
     "output_type": "execute_result"
    }
   ],
   "source": [
    "# Посмотрим на этот дубликат\n",
    "events[events.duplicated()]"
   ]
  },
  {
   "cell_type": "markdown",
   "id": "cd2f7120",
   "metadata": {},
   "source": [
    "<div class=\"alert alert-success\">\n",
    "    <p><b>Комментарий тимлида: </b></p>\n",
    "    \n",
    "Согласен, дубликат нам не нужен\n",
    "</div> "
   ]
  },
  {
   "cell_type": "code",
   "execution_count": 12,
   "id": "d1dc336f",
   "metadata": {},
   "outputs": [
    {
     "data": {
      "text/html": [
       "<div>\n",
       "<style scoped>\n",
       "    .dataframe tbody tr th:only-of-type {\n",
       "        vertical-align: middle;\n",
       "    }\n",
       "\n",
       "    .dataframe tbody tr th {\n",
       "        vertical-align: top;\n",
       "    }\n",
       "\n",
       "    .dataframe thead th {\n",
       "        text-align: right;\n",
       "    }\n",
       "</style>\n",
       "<table border=\"1\" class=\"dataframe\">\n",
       "  <thead>\n",
       "    <tr style=\"text-align: right;\">\n",
       "      <th></th>\n",
       "      <th>event_datetime</th>\n",
       "      <th>event</th>\n",
       "      <th>building_type</th>\n",
       "      <th>user_id</th>\n",
       "      <th>project_type</th>\n",
       "    </tr>\n",
       "  </thead>\n",
       "  <tbody>\n",
       "    <tr>\n",
       "      <th>0</th>\n",
       "      <td>2020-05-04 00:00:01</td>\n",
       "      <td>building</td>\n",
       "      <td>assembly_shop</td>\n",
       "      <td>55e92310-cb8e-4754-b622-597e124b03de</td>\n",
       "      <td>NaN</td>\n",
       "    </tr>\n",
       "    <tr>\n",
       "      <th>1</th>\n",
       "      <td>2020-05-04 00:00:03</td>\n",
       "      <td>building</td>\n",
       "      <td>assembly_shop</td>\n",
       "      <td>c07b1c10-f477-44dc-81dc-ec82254b1347</td>\n",
       "      <td>NaN</td>\n",
       "    </tr>\n",
       "    <tr>\n",
       "      <th>2</th>\n",
       "      <td>2020-05-04 00:00:16</td>\n",
       "      <td>building</td>\n",
       "      <td>assembly_shop</td>\n",
       "      <td>6edd42cc-e753-4ff6-a947-2107cd560710</td>\n",
       "      <td>NaN</td>\n",
       "    </tr>\n",
       "    <tr>\n",
       "      <th>3</th>\n",
       "      <td>2020-05-04 00:00:16</td>\n",
       "      <td>building</td>\n",
       "      <td>assembly_shop</td>\n",
       "      <td>92c69003-d60a-444a-827f-8cc51bf6bf4c</td>\n",
       "      <td>NaN</td>\n",
       "    </tr>\n",
       "    <tr>\n",
       "      <th>4</th>\n",
       "      <td>2020-05-04 00:00:35</td>\n",
       "      <td>building</td>\n",
       "      <td>assembly_shop</td>\n",
       "      <td>cdc6bb92-0ccb-4490-9866-ef142f09139d</td>\n",
       "      <td>NaN</td>\n",
       "    </tr>\n",
       "    <tr>\n",
       "      <th>...</th>\n",
       "      <td>...</td>\n",
       "      <td>...</td>\n",
       "      <td>...</td>\n",
       "      <td>...</td>\n",
       "      <td>...</td>\n",
       "    </tr>\n",
       "    <tr>\n",
       "      <th>135635</th>\n",
       "      <td>2020-06-05 00:08:06</td>\n",
       "      <td>building</td>\n",
       "      <td>research_center</td>\n",
       "      <td>f21d179f-1c4b-437e-b9c6-ab1976907195</td>\n",
       "      <td>NaN</td>\n",
       "    </tr>\n",
       "    <tr>\n",
       "      <th>135636</th>\n",
       "      <td>2020-06-05 02:25:12</td>\n",
       "      <td>finished_stage_1</td>\n",
       "      <td>NaN</td>\n",
       "      <td>515c1952-99aa-4bca-a7ea-d0449eb5385a</td>\n",
       "      <td>NaN</td>\n",
       "    </tr>\n",
       "    <tr>\n",
       "      <th>135637</th>\n",
       "      <td>2020-06-05 08:57:52</td>\n",
       "      <td>building</td>\n",
       "      <td>research_center</td>\n",
       "      <td>ed3e7d02-8a96-4be7-9998-e9813ff9c316</td>\n",
       "      <td>NaN</td>\n",
       "    </tr>\n",
       "    <tr>\n",
       "      <th>135638</th>\n",
       "      <td>2020-06-05 12:12:27</td>\n",
       "      <td>finished_stage_1</td>\n",
       "      <td>NaN</td>\n",
       "      <td>32572adb-900f-4b5d-a453-1eb1e6d88d8b</td>\n",
       "      <td>NaN</td>\n",
       "    </tr>\n",
       "    <tr>\n",
       "      <th>135639</th>\n",
       "      <td>2020-06-05 12:32:49</td>\n",
       "      <td>finished_stage_1</td>\n",
       "      <td>NaN</td>\n",
       "      <td>f21d179f-1c4b-437e-b9c6-ab1976907195</td>\n",
       "      <td>NaN</td>\n",
       "    </tr>\n",
       "  </tbody>\n",
       "</table>\n",
       "<p>135639 rows × 5 columns</p>\n",
       "</div>"
      ],
      "text/plain": [
       "            event_datetime             event    building_type  \\\n",
       "0      2020-05-04 00:00:01          building    assembly_shop   \n",
       "1      2020-05-04 00:00:03          building    assembly_shop   \n",
       "2      2020-05-04 00:00:16          building    assembly_shop   \n",
       "3      2020-05-04 00:00:16          building    assembly_shop   \n",
       "4      2020-05-04 00:00:35          building    assembly_shop   \n",
       "...                    ...               ...              ...   \n",
       "135635 2020-06-05 00:08:06          building  research_center   \n",
       "135636 2020-06-05 02:25:12  finished_stage_1              NaN   \n",
       "135637 2020-06-05 08:57:52          building  research_center   \n",
       "135638 2020-06-05 12:12:27  finished_stage_1              NaN   \n",
       "135639 2020-06-05 12:32:49  finished_stage_1              NaN   \n",
       "\n",
       "                                     user_id project_type  \n",
       "0       55e92310-cb8e-4754-b622-597e124b03de          NaN  \n",
       "1       c07b1c10-f477-44dc-81dc-ec82254b1347          NaN  \n",
       "2       6edd42cc-e753-4ff6-a947-2107cd560710          NaN  \n",
       "3       92c69003-d60a-444a-827f-8cc51bf6bf4c          NaN  \n",
       "4       cdc6bb92-0ccb-4490-9866-ef142f09139d          NaN  \n",
       "...                                      ...          ...  \n",
       "135635  f21d179f-1c4b-437e-b9c6-ab1976907195          NaN  \n",
       "135636  515c1952-99aa-4bca-a7ea-d0449eb5385a          NaN  \n",
       "135637  ed3e7d02-8a96-4be7-9998-e9813ff9c316          NaN  \n",
       "135638  32572adb-900f-4b5d-a453-1eb1e6d88d8b          NaN  \n",
       "135639  f21d179f-1c4b-437e-b9c6-ab1976907195          NaN  \n",
       "\n",
       "[135639 rows x 5 columns]"
      ]
     },
     "execution_count": 12,
     "metadata": {},
     "output_type": "execute_result"
    }
   ],
   "source": [
    "# И смело удалим\n",
    "events.drop_duplicates()"
   ]
  },
  {
   "cell_type": "markdown",
   "id": "7bd50a1a",
   "metadata": {},
   "source": [
    "В условиях сказано, что данные содержат информацию о пользователях, которые начали пользоваться нашим приложением с 4 по 10 мая включительно, проверим это утверждение."
   ]
  },
  {
   "cell_type": "code",
   "execution_count": 13,
   "id": "87ecfa8b",
   "metadata": {},
   "outputs": [
    {
     "data": {
      "text/plain": [
       "2020-05-04    5860\n",
       "2020-05-05    3361\n",
       "2020-05-06    1847\n",
       "2020-05-07    1109\n",
       "2020-05-08     688\n",
       "2020-05-09     440\n",
       "2020-05-10     271\n",
       "Name: event_dt, dtype: int64"
      ]
     },
     "execution_count": 13,
     "metadata": {},
     "output_type": "execute_result"
    }
   ],
   "source": [
    "events['event_dt'] = events['event_datetime'].dt.date\n",
    "events.groupby('user_id')['event_dt'].first().value_counts()"
   ]
  },
  {
   "cell_type": "markdown",
   "id": "fd33caf3",
   "metadata": {},
   "source": [
    "Данные предобработаны и готовы к дальшейней работе.\n",
    "\n",
    "Переходим к следующему df - с информацией и дате покупки рекламы и её стоимости"
   ]
  },
  {
   "cell_type": "code",
   "execution_count": 14,
   "id": "0b374973",
   "metadata": {},
   "outputs": [],
   "source": [
    "path_to_ad = 'ad_costs333.csv' # Указываем путь до файла (индивидуально у каждого пользователя)\n",
    "try:\n",
    "    adv = pd.read_csv(path_to_ad)\n",
    "    adv.name = 'adv'\n",
    "except:\n",
    "    print('Wrong filepath')"
   ]
  },
  {
   "cell_type": "code",
   "execution_count": 15,
   "id": "72335905",
   "metadata": {},
   "outputs": [
    {
     "data": {
      "text/html": [
       "<div>\n",
       "<style scoped>\n",
       "    .dataframe tbody tr th:only-of-type {\n",
       "        vertical-align: middle;\n",
       "    }\n",
       "\n",
       "    .dataframe tbody tr th {\n",
       "        vertical-align: top;\n",
       "    }\n",
       "\n",
       "    .dataframe thead th {\n",
       "        text-align: right;\n",
       "    }\n",
       "</style>\n",
       "<table border=\"1\" class=\"dataframe\">\n",
       "  <thead>\n",
       "    <tr style=\"text-align: right;\">\n",
       "      <th></th>\n",
       "      <th>source</th>\n",
       "      <th>day</th>\n",
       "      <th>cost</th>\n",
       "    </tr>\n",
       "  </thead>\n",
       "  <tbody>\n",
       "    <tr>\n",
       "      <th>0</th>\n",
       "      <td>facebook_ads</td>\n",
       "      <td>2020-05-03</td>\n",
       "      <td>935.882786</td>\n",
       "    </tr>\n",
       "    <tr>\n",
       "      <th>1</th>\n",
       "      <td>facebook_ads</td>\n",
       "      <td>2020-05-04</td>\n",
       "      <td>548.354480</td>\n",
       "    </tr>\n",
       "    <tr>\n",
       "      <th>2</th>\n",
       "      <td>facebook_ads</td>\n",
       "      <td>2020-05-05</td>\n",
       "      <td>260.185754</td>\n",
       "    </tr>\n",
       "    <tr>\n",
       "      <th>3</th>\n",
       "      <td>facebook_ads</td>\n",
       "      <td>2020-05-06</td>\n",
       "      <td>177.982200</td>\n",
       "    </tr>\n",
       "    <tr>\n",
       "      <th>4</th>\n",
       "      <td>facebook_ads</td>\n",
       "      <td>2020-05-07</td>\n",
       "      <td>111.766796</td>\n",
       "    </tr>\n",
       "  </tbody>\n",
       "</table>\n",
       "</div>"
      ],
      "text/plain": [
       "         source         day        cost\n",
       "0  facebook_ads  2020-05-03  935.882786\n",
       "1  facebook_ads  2020-05-04  548.354480\n",
       "2  facebook_ads  2020-05-05  260.185754\n",
       "3  facebook_ads  2020-05-06  177.982200\n",
       "4  facebook_ads  2020-05-07  111.766796"
      ]
     },
     "execution_count": 15,
     "metadata": {},
     "output_type": "execute_result"
    }
   ],
   "source": [
    "adv.head()"
   ]
  },
  {
   "cell_type": "code",
   "execution_count": 16,
   "id": "e07a7793",
   "metadata": {},
   "outputs": [
    {
     "name": "stdout",
     "output_type": "stream",
     "text": [
      "<class 'pandas.core.frame.DataFrame'>\n",
      "RangeIndex: 28 entries, 0 to 27\n",
      "Data columns (total 3 columns):\n",
      " #   Column  Non-Null Count  Dtype  \n",
      "---  ------  --------------  -----  \n",
      " 0   source  28 non-null     object \n",
      " 1   day     28 non-null     object \n",
      " 2   cost    28 non-null     float64\n",
      "dtypes: float64(1), object(2)\n",
      "memory usage: 800.0+ bytes\n"
     ]
    }
   ],
   "source": [
    "adv.info()"
   ]
  },
  {
   "cell_type": "markdown",
   "id": "bd45db04",
   "metadata": {},
   "source": [
    "Изменим тип данных колонки day на date"
   ]
  },
  {
   "cell_type": "code",
   "execution_count": 17,
   "id": "d61ba5f5",
   "metadata": {},
   "outputs": [
    {
     "name": "stdout",
     "output_type": "stream",
     "text": [
      "<class 'pandas.core.frame.DataFrame'>\n",
      "RangeIndex: 28 entries, 0 to 27\n",
      "Data columns (total 3 columns):\n",
      " #   Column  Non-Null Count  Dtype         \n",
      "---  ------  --------------  -----         \n",
      " 0   source  28 non-null     object        \n",
      " 1   day     28 non-null     datetime64[ns]\n",
      " 2   cost    28 non-null     float64       \n",
      "dtypes: datetime64[ns](1), float64(1), object(1)\n",
      "memory usage: 800.0+ bytes\n"
     ]
    },
    {
     "data": {
      "text/html": [
       "<div>\n",
       "<style scoped>\n",
       "    .dataframe tbody tr th:only-of-type {\n",
       "        vertical-align: middle;\n",
       "    }\n",
       "\n",
       "    .dataframe tbody tr th {\n",
       "        vertical-align: top;\n",
       "    }\n",
       "\n",
       "    .dataframe thead th {\n",
       "        text-align: right;\n",
       "    }\n",
       "</style>\n",
       "<table border=\"1\" class=\"dataframe\">\n",
       "  <thead>\n",
       "    <tr style=\"text-align: right;\">\n",
       "      <th></th>\n",
       "      <th>source</th>\n",
       "      <th>day</th>\n",
       "      <th>cost</th>\n",
       "    </tr>\n",
       "  </thead>\n",
       "  <tbody>\n",
       "    <tr>\n",
       "      <th>0</th>\n",
       "      <td>facebook_ads</td>\n",
       "      <td>2020-05-03</td>\n",
       "      <td>935.882786</td>\n",
       "    </tr>\n",
       "    <tr>\n",
       "      <th>1</th>\n",
       "      <td>facebook_ads</td>\n",
       "      <td>2020-05-04</td>\n",
       "      <td>548.354480</td>\n",
       "    </tr>\n",
       "    <tr>\n",
       "      <th>2</th>\n",
       "      <td>facebook_ads</td>\n",
       "      <td>2020-05-05</td>\n",
       "      <td>260.185754</td>\n",
       "    </tr>\n",
       "    <tr>\n",
       "      <th>3</th>\n",
       "      <td>facebook_ads</td>\n",
       "      <td>2020-05-06</td>\n",
       "      <td>177.982200</td>\n",
       "    </tr>\n",
       "    <tr>\n",
       "      <th>4</th>\n",
       "      <td>facebook_ads</td>\n",
       "      <td>2020-05-07</td>\n",
       "      <td>111.766796</td>\n",
       "    </tr>\n",
       "  </tbody>\n",
       "</table>\n",
       "</div>"
      ],
      "text/plain": [
       "         source        day        cost\n",
       "0  facebook_ads 2020-05-03  935.882786\n",
       "1  facebook_ads 2020-05-04  548.354480\n",
       "2  facebook_ads 2020-05-05  260.185754\n",
       "3  facebook_ads 2020-05-06  177.982200\n",
       "4  facebook_ads 2020-05-07  111.766796"
      ]
     },
     "execution_count": 17,
     "metadata": {},
     "output_type": "execute_result"
    }
   ],
   "source": [
    "adv['day'] = pd.to_datetime(adv['day'])\n",
    "adv.info()\n",
    "adv.head()"
   ]
  },
  {
   "cell_type": "code",
   "execution_count": 18,
   "id": "142bd979",
   "metadata": {},
   "outputs": [
    {
     "data": {
      "text/plain": [
       "0"
      ]
     },
     "execution_count": 18,
     "metadata": {},
     "output_type": "execute_result"
    }
   ],
   "source": [
    "# Проверим на наличие дубликатов\n",
    "adv.duplicated().sum()"
   ]
  },
  {
   "cell_type": "markdown",
   "id": "24e1fe37",
   "metadata": {},
   "source": [
    "Данных было немного, они чистые в предобработке не нуждаются.\n",
    "\n",
    "Переходим к следующему df"
   ]
  },
  {
   "cell_type": "code",
   "execution_count": 19,
   "id": "b260132f",
   "metadata": {},
   "outputs": [],
   "source": [
    "path_to_source = 'user_source222.csv' # Указываем путь до файла (индивидуально у каждого пользователя)\n",
    "try:\n",
    "    source = pd.read_csv(path_to_source)\n",
    "    source.name = 'source'\n",
    "except:\n",
    "    print('Wrong filepath')"
   ]
  },
  {
   "cell_type": "code",
   "execution_count": 20,
   "id": "16d4cbb5",
   "metadata": {},
   "outputs": [
    {
     "data": {
      "text/html": [
       "<div>\n",
       "<style scoped>\n",
       "    .dataframe tbody tr th:only-of-type {\n",
       "        vertical-align: middle;\n",
       "    }\n",
       "\n",
       "    .dataframe tbody tr th {\n",
       "        vertical-align: top;\n",
       "    }\n",
       "\n",
       "    .dataframe thead th {\n",
       "        text-align: right;\n",
       "    }\n",
       "</style>\n",
       "<table border=\"1\" class=\"dataframe\">\n",
       "  <thead>\n",
       "    <tr style=\"text-align: right;\">\n",
       "      <th></th>\n",
       "      <th>user_id</th>\n",
       "      <th>source</th>\n",
       "    </tr>\n",
       "  </thead>\n",
       "  <tbody>\n",
       "    <tr>\n",
       "      <th>0</th>\n",
       "      <td>0001f83c-c6ac-4621-b7f0-8a28b283ac30</td>\n",
       "      <td>facebook_ads</td>\n",
       "    </tr>\n",
       "    <tr>\n",
       "      <th>1</th>\n",
       "      <td>00151b4f-ba38-44a8-a650-d7cf130a0105</td>\n",
       "      <td>yandex_direct</td>\n",
       "    </tr>\n",
       "    <tr>\n",
       "      <th>2</th>\n",
       "      <td>001aaea6-3d14-43f1-8ca8-7f48820f17aa</td>\n",
       "      <td>youtube_channel_reklama</td>\n",
       "    </tr>\n",
       "    <tr>\n",
       "      <th>3</th>\n",
       "      <td>001d39dc-366c-4021-9604-6a3b9ff01e25</td>\n",
       "      <td>instagram_new_adverts</td>\n",
       "    </tr>\n",
       "    <tr>\n",
       "      <th>4</th>\n",
       "      <td>002f508f-67b6-479f-814b-b05f00d4e995</td>\n",
       "      <td>facebook_ads</td>\n",
       "    </tr>\n",
       "  </tbody>\n",
       "</table>\n",
       "</div>"
      ],
      "text/plain": [
       "                                user_id                   source\n",
       "0  0001f83c-c6ac-4621-b7f0-8a28b283ac30             facebook_ads\n",
       "1  00151b4f-ba38-44a8-a650-d7cf130a0105            yandex_direct\n",
       "2  001aaea6-3d14-43f1-8ca8-7f48820f17aa  youtube_channel_reklama\n",
       "3  001d39dc-366c-4021-9604-6a3b9ff01e25    instagram_new_adverts\n",
       "4  002f508f-67b6-479f-814b-b05f00d4e995             facebook_ads"
      ]
     },
     "execution_count": 20,
     "metadata": {},
     "output_type": "execute_result"
    }
   ],
   "source": [
    "source.head()"
   ]
  },
  {
   "cell_type": "code",
   "execution_count": 21,
   "id": "57cf0b95",
   "metadata": {},
   "outputs": [
    {
     "name": "stdout",
     "output_type": "stream",
     "text": [
      "<class 'pandas.core.frame.DataFrame'>\n",
      "RangeIndex: 13576 entries, 0 to 13575\n",
      "Data columns (total 2 columns):\n",
      " #   Column   Non-Null Count  Dtype \n",
      "---  ------   --------------  ----- \n",
      " 0   user_id  13576 non-null  object\n",
      " 1   source   13576 non-null  object\n",
      "dtypes: object(2)\n",
      "memory usage: 212.2+ KB\n"
     ]
    }
   ],
   "source": [
    "source.info()"
   ]
  },
  {
   "cell_type": "code",
   "execution_count": 22,
   "id": "8e95c27f",
   "metadata": {},
   "outputs": [
    {
     "data": {
      "text/plain": [
       "0"
      ]
     },
     "execution_count": 22,
     "metadata": {},
     "output_type": "execute_result"
    }
   ],
   "source": [
    "source.duplicated().sum()"
   ]
  },
  {
   "cell_type": "markdown",
   "id": "5e7b313b",
   "metadata": {},
   "source": [
    "Данные чистые, пропуски не обнаружены.\n",
    "\n",
    "Проверим на наличие дубликатов"
   ]
  },
  {
   "cell_type": "markdown",
   "id": "8a743001",
   "metadata": {},
   "source": [
    "## Вывод\n",
    "\n",
    "**В данном разделе мы загрузили, открыли, изучили исходные датафреймы, изменили типы данных, избавились от дубликатов и подготовили данные для дальнейшего анализа.**"
   ]
  },
  {
   "cell_type": "markdown",
   "id": "cc7ad059",
   "metadata": {},
   "source": [
    "<a id=\"step2\"></a>\n",
    "# Изучение и проверка данных\n",
    "\n",
    "С помощью метода merge для каждого пользователя в таблице events добавим инфорацию об источнике его перехода."
   ]
  },
  {
   "cell_type": "code",
   "execution_count": 23,
   "id": "73c060dd",
   "metadata": {},
   "outputs": [
    {
     "data": {
      "text/html": [
       "<div>\n",
       "<style scoped>\n",
       "    .dataframe tbody tr th:only-of-type {\n",
       "        vertical-align: middle;\n",
       "    }\n",
       "\n",
       "    .dataframe tbody tr th {\n",
       "        vertical-align: top;\n",
       "    }\n",
       "\n",
       "    .dataframe thead th {\n",
       "        text-align: right;\n",
       "    }\n",
       "</style>\n",
       "<table border=\"1\" class=\"dataframe\">\n",
       "  <thead>\n",
       "    <tr style=\"text-align: right;\">\n",
       "      <th></th>\n",
       "      <th>event_datetime</th>\n",
       "      <th>event</th>\n",
       "      <th>building_type</th>\n",
       "      <th>user_id</th>\n",
       "      <th>project_type</th>\n",
       "      <th>event_dt</th>\n",
       "      <th>source</th>\n",
       "    </tr>\n",
       "  </thead>\n",
       "  <tbody>\n",
       "    <tr>\n",
       "      <th>0</th>\n",
       "      <td>2020-05-04 00:00:01</td>\n",
       "      <td>building</td>\n",
       "      <td>assembly_shop</td>\n",
       "      <td>55e92310-cb8e-4754-b622-597e124b03de</td>\n",
       "      <td>NaN</td>\n",
       "      <td>2020-05-04</td>\n",
       "      <td>youtube_channel_reklama</td>\n",
       "    </tr>\n",
       "    <tr>\n",
       "      <th>1</th>\n",
       "      <td>2020-05-04 00:00:03</td>\n",
       "      <td>building</td>\n",
       "      <td>assembly_shop</td>\n",
       "      <td>c07b1c10-f477-44dc-81dc-ec82254b1347</td>\n",
       "      <td>NaN</td>\n",
       "      <td>2020-05-04</td>\n",
       "      <td>facebook_ads</td>\n",
       "    </tr>\n",
       "    <tr>\n",
       "      <th>2</th>\n",
       "      <td>2020-05-04 00:00:16</td>\n",
       "      <td>building</td>\n",
       "      <td>assembly_shop</td>\n",
       "      <td>6edd42cc-e753-4ff6-a947-2107cd560710</td>\n",
       "      <td>NaN</td>\n",
       "      <td>2020-05-04</td>\n",
       "      <td>instagram_new_adverts</td>\n",
       "    </tr>\n",
       "    <tr>\n",
       "      <th>3</th>\n",
       "      <td>2020-05-04 00:00:16</td>\n",
       "      <td>building</td>\n",
       "      <td>assembly_shop</td>\n",
       "      <td>92c69003-d60a-444a-827f-8cc51bf6bf4c</td>\n",
       "      <td>NaN</td>\n",
       "      <td>2020-05-04</td>\n",
       "      <td>facebook_ads</td>\n",
       "    </tr>\n",
       "    <tr>\n",
       "      <th>4</th>\n",
       "      <td>2020-05-04 00:00:35</td>\n",
       "      <td>building</td>\n",
       "      <td>assembly_shop</td>\n",
       "      <td>cdc6bb92-0ccb-4490-9866-ef142f09139d</td>\n",
       "      <td>NaN</td>\n",
       "      <td>2020-05-04</td>\n",
       "      <td>yandex_direct</td>\n",
       "    </tr>\n",
       "  </tbody>\n",
       "</table>\n",
       "</div>"
      ],
      "text/plain": [
       "       event_datetime     event  building_type  \\\n",
       "0 2020-05-04 00:00:01  building  assembly_shop   \n",
       "1 2020-05-04 00:00:03  building  assembly_shop   \n",
       "2 2020-05-04 00:00:16  building  assembly_shop   \n",
       "3 2020-05-04 00:00:16  building  assembly_shop   \n",
       "4 2020-05-04 00:00:35  building  assembly_shop   \n",
       "\n",
       "                                user_id project_type    event_dt  \\\n",
       "0  55e92310-cb8e-4754-b622-597e124b03de          NaN  2020-05-04   \n",
       "1  c07b1c10-f477-44dc-81dc-ec82254b1347          NaN  2020-05-04   \n",
       "2  6edd42cc-e753-4ff6-a947-2107cd560710          NaN  2020-05-04   \n",
       "3  92c69003-d60a-444a-827f-8cc51bf6bf4c          NaN  2020-05-04   \n",
       "4  cdc6bb92-0ccb-4490-9866-ef142f09139d          NaN  2020-05-04   \n",
       "\n",
       "                    source  \n",
       "0  youtube_channel_reklama  \n",
       "1             facebook_ads  \n",
       "2    instagram_new_adverts  \n",
       "3             facebook_ads  \n",
       "4            yandex_direct  "
      ]
     },
     "execution_count": 23,
     "metadata": {},
     "output_type": "execute_result"
    }
   ],
   "source": [
    "events = events.merge(source, on='user_id', how='left')\n",
    "events.head()"
   ]
  },
  {
   "cell_type": "markdown",
   "id": "72d23009",
   "metadata": {},
   "source": [
    "Ответим на следующие вопросы:\n",
    "\n",
    "**1) Какое общее количество логов?**\n",
    "\n",
    "**2) Сколько у нас уникальных пользователей?**\n",
    "\n",
    "**3) Сколько игроков перешли на 2ой уровень?**\n",
    "\n",
    "**4) Какое количество сделало это с помощью строительства орбитальной станции?**\n",
    "\n",
    "**5) Сколько пользователей перешли путём победы над соперником?**\n",
    "\n",
    "**6) Какое среднее число событий приходится на 1 пользователя?**\n",
    "\n",
    "*P.S.* Мы не можем посчитать сколько пользователей перестали пользоваться нашим приложением, т.к. считаем что если нет события finished_stage_1 как и building, то пользователь может просто усиленно воевать. \n",
    "\n",
    "Но монетизация нашего момента начинается со второго уровня, поэтому анализировать логично пользователей, перешедших на второй уровен, а не залипнувших на первом. Поэтому дальшейший анализ мы будем производить на пользователях, перешедших на 2ой уровень."
   ]
  },
  {
   "cell_type": "code",
   "execution_count": 24,
   "id": "b13c0abb",
   "metadata": {},
   "outputs": [
    {
     "data": {
      "text/html": [
       "<div>\n",
       "<style scoped>\n",
       "    .dataframe tbody tr th:only-of-type {\n",
       "        vertical-align: middle;\n",
       "    }\n",
       "\n",
       "    .dataframe tbody tr th {\n",
       "        vertical-align: top;\n",
       "    }\n",
       "\n",
       "    .dataframe thead th {\n",
       "        text-align: right;\n",
       "    }\n",
       "</style>\n",
       "<table border=\"1\" class=\"dataframe\">\n",
       "  <thead>\n",
       "    <tr style=\"text-align: right;\">\n",
       "      <th></th>\n",
       "      <th>event_datetime</th>\n",
       "      <th>event</th>\n",
       "      <th>building_type</th>\n",
       "      <th>user_id</th>\n",
       "      <th>project_type</th>\n",
       "      <th>event_dt</th>\n",
       "      <th>source</th>\n",
       "    </tr>\n",
       "  </thead>\n",
       "  <tbody>\n",
       "    <tr>\n",
       "      <th>1</th>\n",
       "      <td>2020-05-04 00:00:03</td>\n",
       "      <td>building</td>\n",
       "      <td>assembly_shop</td>\n",
       "      <td>c07b1c10-f477-44dc-81dc-ec82254b1347</td>\n",
       "      <td>NaN</td>\n",
       "      <td>2020-05-04</td>\n",
       "      <td>facebook_ads</td>\n",
       "    </tr>\n",
       "    <tr>\n",
       "      <th>2</th>\n",
       "      <td>2020-05-04 00:00:16</td>\n",
       "      <td>building</td>\n",
       "      <td>assembly_shop</td>\n",
       "      <td>6edd42cc-e753-4ff6-a947-2107cd560710</td>\n",
       "      <td>NaN</td>\n",
       "      <td>2020-05-04</td>\n",
       "      <td>instagram_new_adverts</td>\n",
       "    </tr>\n",
       "    <tr>\n",
       "      <th>4</th>\n",
       "      <td>2020-05-04 00:00:35</td>\n",
       "      <td>building</td>\n",
       "      <td>assembly_shop</td>\n",
       "      <td>cdc6bb92-0ccb-4490-9866-ef142f09139d</td>\n",
       "      <td>NaN</td>\n",
       "      <td>2020-05-04</td>\n",
       "      <td>yandex_direct</td>\n",
       "    </tr>\n",
       "    <tr>\n",
       "      <th>6</th>\n",
       "      <td>2020-05-04 00:00:36</td>\n",
       "      <td>building</td>\n",
       "      <td>assembly_shop</td>\n",
       "      <td>4fe0f101-694b-4e31-9740-d1d87f7208ea</td>\n",
       "      <td>NaN</td>\n",
       "      <td>2020-05-04</td>\n",
       "      <td>facebook_ads</td>\n",
       "    </tr>\n",
       "    <tr>\n",
       "      <th>8</th>\n",
       "      <td>2020-05-04 00:00:44</td>\n",
       "      <td>building</td>\n",
       "      <td>assembly_shop</td>\n",
       "      <td>65a92713-5969-48b1-8945-bfefa5063887</td>\n",
       "      <td>NaN</td>\n",
       "      <td>2020-05-04</td>\n",
       "      <td>yandex_direct</td>\n",
       "    </tr>\n",
       "  </tbody>\n",
       "</table>\n",
       "</div>"
      ],
      "text/plain": [
       "       event_datetime     event  building_type  \\\n",
       "1 2020-05-04 00:00:03  building  assembly_shop   \n",
       "2 2020-05-04 00:00:16  building  assembly_shop   \n",
       "4 2020-05-04 00:00:35  building  assembly_shop   \n",
       "6 2020-05-04 00:00:36  building  assembly_shop   \n",
       "8 2020-05-04 00:00:44  building  assembly_shop   \n",
       "\n",
       "                                user_id project_type    event_dt  \\\n",
       "1  c07b1c10-f477-44dc-81dc-ec82254b1347          NaN  2020-05-04   \n",
       "2  6edd42cc-e753-4ff6-a947-2107cd560710          NaN  2020-05-04   \n",
       "4  cdc6bb92-0ccb-4490-9866-ef142f09139d          NaN  2020-05-04   \n",
       "6  4fe0f101-694b-4e31-9740-d1d87f7208ea          NaN  2020-05-04   \n",
       "8  65a92713-5969-48b1-8945-bfefa5063887          NaN  2020-05-04   \n",
       "\n",
       "                  source  \n",
       "1           facebook_ads  \n",
       "2  instagram_new_adverts  \n",
       "4          yandex_direct  \n",
       "6           facebook_ads  \n",
       "8          yandex_direct  "
      ]
     },
     "execution_count": 24,
     "metadata": {},
     "output_type": "execute_result"
    }
   ],
   "source": [
    "# Давайте получим user_id пользователей, перешедших на 2ой уровень и отфильтруем наш Df\n",
    "good_users = events.query('event==\"finished_stage_1\"')['user_id'].unique()\n",
    "\n",
    "good_events = events[events['user_id'].isin(good_users)]\n",
    "good_events.name = 'good_events'\n",
    "good_events.head()"
   ]
  },
  {
   "cell_type": "code",
   "execution_count": 25,
   "id": "21080c69",
   "metadata": {},
   "outputs": [
    {
     "name": "stdout",
     "output_type": "stream",
     "text": [
      "Мы правильно отфильтровали данные: True\n"
     ]
    }
   ],
   "source": [
    "# Проверим себя, сравнив количество пользователей в списке good_users и количество уникальных пользователей df good_events\n",
    "print('Мы правильно отфильтровали данные:', len(good_users) == good_events['user_id'].nunique())"
   ]
  },
  {
   "cell_type": "markdown",
   "id": "3c3d99eb",
   "metadata": {},
   "source": [
    "Теперь, имея на руках необходимые данные можем отвечать на вопросы"
   ]
  },
  {
   "cell_type": "code",
   "execution_count": 26,
   "id": "e8069a75",
   "metadata": {},
   "outputs": [
    {
     "name": "stdout",
     "output_type": "stream",
     "text": [
      "Общее количество логов в таблице good_events - 135640\n"
     ]
    }
   ],
   "source": [
    "# Какое общее количество логов?\n",
    "print('Общее количество логов в таблице {} - {}'.format('good_events', events.shape[0]))"
   ]
  },
  {
   "cell_type": "code",
   "execution_count": 27,
   "id": "79931b89",
   "metadata": {},
   "outputs": [
    {
     "name": "stdout",
     "output_type": "stream",
     "text": [
      "Изначальное количество уникальных пользователей - 13576\n"
     ]
    }
   ],
   "source": [
    "# Сколько у нас уникальных пользователей?\n",
    "print('Изначальное количество уникальных пользователей - {}'.format(events['user_id'].nunique()))"
   ]
  },
  {
   "cell_type": "code",
   "execution_count": 28,
   "id": "d3ca9635",
   "metadata": {},
   "outputs": [
    {
     "name": "stdout",
     "output_type": "stream",
     "text": [
      "Количество игроков, перешедних на второй уровень - 5817\n"
     ]
    }
   ],
   "source": [
    "# Сколько игроков перешли на 2ой уровень?\n",
    "print('Количество игроков, перешедних на второй уровень - {}'.format(len(good_users)))"
   ]
  },
  {
   "cell_type": "code",
   "execution_count": 29,
   "id": "114efac0",
   "metadata": {},
   "outputs": [
    {
     "name": "stdout",
     "output_type": "stream",
     "text": [
      "Количество игроков, перешедних на второй уровень с помощью строительства орбитальной станции - 1866\n"
     ]
    }
   ],
   "source": [
    "# Какое количество сделало это с помощью строительства орбитальной станции?\n",
    "print(\n",
    "    'Количество игроков, перешедних на второй уровень с помощью строительства орбитальной станции - {}'\n",
    "    .format(good_events[good_events['event']=='project']['user_id'].count())\n",
    ")"
   ]
  },
  {
   "cell_type": "code",
   "execution_count": 30,
   "id": "18f5e40d",
   "metadata": {},
   "outputs": [
    {
     "name": "stdout",
     "output_type": "stream",
     "text": [
      "Количество игроков, перешедних на второй уровень перешли путём победы над соперником - 3951\n"
     ]
    }
   ],
   "source": [
    "# Сколько пользователей перешли путём победы над соперником?\n",
    "print(\n",
    "    'Количество игроков, перешедних на второй уровень перешли путём победы над соперником - {}'\n",
    "    .format(len(good_users) - good_events[good_events['event']=='project']['user_id'].count())\n",
    ")"
   ]
  },
  {
   "cell_type": "code",
   "execution_count": 31,
   "id": "49761214",
   "metadata": {
    "scrolled": false
   },
   "outputs": [
    {
     "name": "stdout",
     "output_type": "stream",
     "text": [
      "Среднее число событий на 1 пользователя в исходном df events - 9.991\n",
      "Среднее число событий на 1 пользователя в отфильтрованном df good_events - 11.771\n"
     ]
    }
   ],
   "source": [
    "# Какое среднее число событий приходится на 1 пользователя?\n",
    "print(\n",
    "    'Среднее число событий на 1 пользователя в исходном df events - {}'\n",
    "    .format(round(events.groupby('user_id').agg({'event':'count'})['event'].mean(),3))\n",
    ")\n",
    "print(\n",
    "    'Среднее число событий на 1 пользователя в отфильтрованном df good_events - {}'\n",
    "    .format(round(good_events.groupby('user_id').agg({'event':'count'})['event'].mean(),3))\n",
    ")"
   ]
  },
  {
   "cell_type": "code",
   "execution_count": 32,
   "id": "3041bb99",
   "metadata": {},
   "outputs": [
    {
     "data": {
      "text/plain": [
       "Text(0.5, 0, 'Вид события')"
      ]
     },
     "execution_count": 32,
     "metadata": {},
     "output_type": "execute_result"
    },
    {
     "data": {
      "image/png": "[encoded data removed]",
      "text/plain": [
       "<Figure size 432x288 with 1 Axes>"
      ]
     },
     "metadata": {
      "needs_background": "light"
     },
     "output_type": "display_data"
    }
   ],
   "source": [
    "# Посмотрим на количество наблюдений среди event\n",
    "sns.countplot(data=events, x='event')\n",
    "plt.title('Количество наблюдений колонки event')\n",
    "plt.ylabel('Кол-во событий')\n",
    "plt.xlabel('Вид события')"
   ]
  },
  {
   "cell_type": "code",
   "execution_count": 33,
   "id": "722ca23b",
   "metadata": {},
   "outputs": [
    {
     "data": {
      "text/plain": [
       "Text(0.5, 0, 'Дата')"
      ]
     },
     "execution_count": 33,
     "metadata": {},
     "output_type": "execute_result"
    },
    {
     "data": {
      "image/png": "[encoded data removed]",
      "text/plain": [
       "<Figure size 864x504 with 1 Axes>"
      ]
     },
     "metadata": {
      "needs_background": "light"
     },
     "output_type": "display_data"
    }
   ],
   "source": [
    "# Давайте посмотрим на распределение логов во времени\n",
    "plt.figure(figsize=(12,7))\n",
    "events['event_datetime'].hist(bins=300)\n",
    "plt.title('Гистрограмма логов')\n",
    "plt.ylabel('Кол-во событий')\n",
    "plt.xlabel('Дата')"
   ]
  },
  {
   "cell_type": "markdown",
   "id": "bbe1c443",
   "metadata": {},
   "source": [
    "По имеющейся иллюстрации наблюдается явный пик активности игроков 10 мая, после чего наблюдается резкий спад.  Чтобы точнее оценить ситуацию необходимо посмотреть на еще несколько вещей."
   ]
  },
  {
   "cell_type": "code",
   "execution_count": 34,
   "id": "baa629a4",
   "metadata": {},
   "outputs": [
    {
     "data": {
      "image/png": "[encoded data removed]",
      "text/plain": [
       "<Figure size 864x504 with 1 Axes>"
      ]
     },
     "metadata": {
      "needs_background": "light"
     },
     "output_type": "display_data"
    }
   ],
   "source": [
    "# Давайте построим визуализацию количества активностей finished_stage_1\n",
    "fig = plt.figure(figsize=(12,7))\n",
    "ax  = fig.add_subplot(1,1,1)\n",
    "events.query('event==\"finished_stage_1\"')\\\n",
    "    .groupby('event_dt')['user_id']\\\n",
    "    .count().reset_index()\\\n",
    "    .plot(kind='area', x='event_dt', y='user_id', ax=ax)\n",
    "plt.title('График количества переходов на второй уровень')\n",
    "plt.ylabel('Кол-во событий')\n",
    "plt.xlabel('Дата')\n",
    "plt.show()"
   ]
  },
  {
   "cell_type": "code",
   "execution_count": 35,
   "id": "8117b3ee",
   "metadata": {},
   "outputs": [
    {
     "data": {
      "text/plain": [
       "2020-05-04    5860\n",
       "2020-05-05    3361\n",
       "2020-05-06    1847\n",
       "2020-05-07    1109\n",
       "2020-05-08     688\n",
       "2020-05-09     440\n",
       "2020-05-10     271\n",
       "Name: event_dt, dtype: int64"
      ]
     },
     "execution_count": 35,
     "metadata": {},
     "output_type": "execute_result"
    }
   ],
   "source": [
    "# И предлагаю оценить график количества новых пользователей\n",
    "events.groupby('user_id').agg({'event_dt':'first'})['event_dt'].value_counts()"
   ]
  },
  {
   "cell_type": "code",
   "execution_count": 36,
   "id": "cb4fe92c",
   "metadata": {
    "scrolled": false
   },
   "outputs": [
    {
     "data": {
      "image/png": "[encoded data removed]",
      "text/plain": [
       "<Figure size 864x504 with 1 Axes>"
      ]
     },
     "metadata": {
      "needs_background": "light"
     },
     "output_type": "display_data"
    }
   ],
   "source": [
    "# Визуализирум\n",
    "fig = plt.figure(figsize=(12,7))\n",
    "ax  = fig.add_subplot(1,1,1)\n",
    "events.groupby('user_id').agg({'event_dt':'first'}).reset_index()['event_dt'].hist(bins=6)\n",
    "plt.title('График количества прихода новых пользователей')\n",
    "plt.ylabel('Кол-во пользователей')\n",
    "plt.xlabel('Дата')\n",
    "plt.show()"
   ]
  },
  {
   "cell_type": "markdown",
   "id": "799f60f7",
   "metadata": {},
   "source": [
    "Графики показывают нам, что большая часть новый пользователей была привлечена именно 4ого мая, а пик количетсва активностей 10-11 мая связан с наложением активностей всех когорт. Резкое уменьшение логов может быть связано с 4мя вещами:\n",
    "\n",
    "- Потерей запала в глазах (некотороые пользователи первые дни играют взахлёб, а потом интенсивность сильно проседает),\n",
    "\n",
    "- Прогрессивная модель строительства зданий (чем больше построек, или чем они круче, тем больше времени необходимо на её строительтсво),\n",
    "\n",
    "- 11 числа вышел патч/ивент поднявший ценность пвп сражений,\n",
    "\n",
    "- Окончание набора в тестовую когорту, также смена механизм отбора пользователей (сперва были опытные игроки, а потом начали приходить игроки казуалы).\n"
   ]
  },
  {
   "cell_type": "markdown",
   "id": "24dd95bd",
   "metadata": {},
   "source": [
    "\n",
    "\n",
    "<div style=\"background:#d4d6fa; color:#000; padding:10px; margin-top:10px\">\n",
    "    <p><b> Комментарий тимлида: </b></p>\n",
    "    \n",
    "С четырьмя - окончание набора в тестовую когорту. А также с тем, как именно отбирали пользователей.\n",
    "</div>"
   ]
  },
  {
   "cell_type": "markdown",
   "id": "44a8c3e8",
   "metadata": {},
   "source": [
    "<div class=\"alert alert-info\"> <b>Комментарий студента:</b> \n",
    "Окей, добавил)\n",
    " </div>"
   ]
  },
  {
   "cell_type": "markdown",
   "id": "6abf5a57",
   "metadata": {},
   "source": [
    "Проверим первое (самое логичное) утверждение"
   ]
  },
  {
   "cell_type": "code",
   "execution_count": 37,
   "id": "383c0a97",
   "metadata": {},
   "outputs": [
    {
     "data": {
      "text/html": [
       "<div>\n",
       "<style scoped>\n",
       "    .dataframe tbody tr th:only-of-type {\n",
       "        vertical-align: middle;\n",
       "    }\n",
       "\n",
       "    .dataframe tbody tr th {\n",
       "        vertical-align: top;\n",
       "    }\n",
       "\n",
       "    .dataframe thead th {\n",
       "        text-align: right;\n",
       "    }\n",
       "</style>\n",
       "<table border=\"1\" class=\"dataframe\">\n",
       "  <thead>\n",
       "    <tr style=\"text-align: right;\">\n",
       "      <th></th>\n",
       "      <th>event_datetime</th>\n",
       "      <th>event</th>\n",
       "      <th>building_type</th>\n",
       "      <th>user_id</th>\n",
       "      <th>project_type</th>\n",
       "      <th>event_dt</th>\n",
       "      <th>source</th>\n",
       "    </tr>\n",
       "  </thead>\n",
       "  <tbody>\n",
       "    <tr>\n",
       "      <th>0</th>\n",
       "      <td>2020-05-04 00:00:01</td>\n",
       "      <td>building</td>\n",
       "      <td>assembly_shop</td>\n",
       "      <td>55e92310-cb8e-4754-b622-597e124b03de</td>\n",
       "      <td>NaN</td>\n",
       "      <td>2020-05-04</td>\n",
       "      <td>youtube_channel_reklama</td>\n",
       "    </tr>\n",
       "    <tr>\n",
       "      <th>1</th>\n",
       "      <td>2020-05-04 00:00:03</td>\n",
       "      <td>building</td>\n",
       "      <td>assembly_shop</td>\n",
       "      <td>c07b1c10-f477-44dc-81dc-ec82254b1347</td>\n",
       "      <td>NaN</td>\n",
       "      <td>2020-05-04</td>\n",
       "      <td>facebook_ads</td>\n",
       "    </tr>\n",
       "    <tr>\n",
       "      <th>2</th>\n",
       "      <td>2020-05-04 00:00:16</td>\n",
       "      <td>building</td>\n",
       "      <td>assembly_shop</td>\n",
       "      <td>6edd42cc-e753-4ff6-a947-2107cd560710</td>\n",
       "      <td>NaN</td>\n",
       "      <td>2020-05-04</td>\n",
       "      <td>instagram_new_adverts</td>\n",
       "    </tr>\n",
       "    <tr>\n",
       "      <th>3</th>\n",
       "      <td>2020-05-04 00:00:16</td>\n",
       "      <td>building</td>\n",
       "      <td>assembly_shop</td>\n",
       "      <td>92c69003-d60a-444a-827f-8cc51bf6bf4c</td>\n",
       "      <td>NaN</td>\n",
       "      <td>2020-05-04</td>\n",
       "      <td>facebook_ads</td>\n",
       "    </tr>\n",
       "    <tr>\n",
       "      <th>4</th>\n",
       "      <td>2020-05-04 00:00:35</td>\n",
       "      <td>building</td>\n",
       "      <td>assembly_shop</td>\n",
       "      <td>cdc6bb92-0ccb-4490-9866-ef142f09139d</td>\n",
       "      <td>NaN</td>\n",
       "      <td>2020-05-04</td>\n",
       "      <td>yandex_direct</td>\n",
       "    </tr>\n",
       "    <tr>\n",
       "      <th>...</th>\n",
       "      <td>...</td>\n",
       "      <td>...</td>\n",
       "      <td>...</td>\n",
       "      <td>...</td>\n",
       "      <td>...</td>\n",
       "      <td>...</td>\n",
       "      <td>...</td>\n",
       "    </tr>\n",
       "    <tr>\n",
       "      <th>135635</th>\n",
       "      <td>2020-06-05 00:08:06</td>\n",
       "      <td>building</td>\n",
       "      <td>research_center</td>\n",
       "      <td>f21d179f-1c4b-437e-b9c6-ab1976907195</td>\n",
       "      <td>NaN</td>\n",
       "      <td>2020-06-05</td>\n",
       "      <td>instagram_new_adverts</td>\n",
       "    </tr>\n",
       "    <tr>\n",
       "      <th>135636</th>\n",
       "      <td>2020-06-05 02:25:12</td>\n",
       "      <td>finished_stage_1</td>\n",
       "      <td>NaN</td>\n",
       "      <td>515c1952-99aa-4bca-a7ea-d0449eb5385a</td>\n",
       "      <td>NaN</td>\n",
       "      <td>2020-06-05</td>\n",
       "      <td>yandex_direct</td>\n",
       "    </tr>\n",
       "    <tr>\n",
       "      <th>135637</th>\n",
       "      <td>2020-06-05 08:57:52</td>\n",
       "      <td>building</td>\n",
       "      <td>research_center</td>\n",
       "      <td>ed3e7d02-8a96-4be7-9998-e9813ff9c316</td>\n",
       "      <td>NaN</td>\n",
       "      <td>2020-06-05</td>\n",
       "      <td>youtube_channel_reklama</td>\n",
       "    </tr>\n",
       "    <tr>\n",
       "      <th>135638</th>\n",
       "      <td>2020-06-05 12:12:27</td>\n",
       "      <td>finished_stage_1</td>\n",
       "      <td>NaN</td>\n",
       "      <td>32572adb-900f-4b5d-a453-1eb1e6d88d8b</td>\n",
       "      <td>NaN</td>\n",
       "      <td>2020-06-05</td>\n",
       "      <td>facebook_ads</td>\n",
       "    </tr>\n",
       "    <tr>\n",
       "      <th>135639</th>\n",
       "      <td>2020-06-05 12:32:49</td>\n",
       "      <td>finished_stage_1</td>\n",
       "      <td>NaN</td>\n",
       "      <td>f21d179f-1c4b-437e-b9c6-ab1976907195</td>\n",
       "      <td>NaN</td>\n",
       "      <td>2020-06-05</td>\n",
       "      <td>instagram_new_adverts</td>\n",
       "    </tr>\n",
       "  </tbody>\n",
       "</table>\n",
       "<p>135640 rows × 7 columns</p>\n",
       "</div>"
      ],
      "text/plain": [
       "            event_datetime             event    building_type  \\\n",
       "0      2020-05-04 00:00:01          building    assembly_shop   \n",
       "1      2020-05-04 00:00:03          building    assembly_shop   \n",
       "2      2020-05-04 00:00:16          building    assembly_shop   \n",
       "3      2020-05-04 00:00:16          building    assembly_shop   \n",
       "4      2020-05-04 00:00:35          building    assembly_shop   \n",
       "...                    ...               ...              ...   \n",
       "135635 2020-06-05 00:08:06          building  research_center   \n",
       "135636 2020-06-05 02:25:12  finished_stage_1              NaN   \n",
       "135637 2020-06-05 08:57:52          building  research_center   \n",
       "135638 2020-06-05 12:12:27  finished_stage_1              NaN   \n",
       "135639 2020-06-05 12:32:49  finished_stage_1              NaN   \n",
       "\n",
       "                                     user_id project_type    event_dt  \\\n",
       "0       55e92310-cb8e-4754-b622-597e124b03de          NaN  2020-05-04   \n",
       "1       c07b1c10-f477-44dc-81dc-ec82254b1347          NaN  2020-05-04   \n",
       "2       6edd42cc-e753-4ff6-a947-2107cd560710          NaN  2020-05-04   \n",
       "3       92c69003-d60a-444a-827f-8cc51bf6bf4c          NaN  2020-05-04   \n",
       "4       cdc6bb92-0ccb-4490-9866-ef142f09139d          NaN  2020-05-04   \n",
       "...                                      ...          ...         ...   \n",
       "135635  f21d179f-1c4b-437e-b9c6-ab1976907195          NaN  2020-06-05   \n",
       "135636  515c1952-99aa-4bca-a7ea-d0449eb5385a          NaN  2020-06-05   \n",
       "135637  ed3e7d02-8a96-4be7-9998-e9813ff9c316          NaN  2020-06-05   \n",
       "135638  32572adb-900f-4b5d-a453-1eb1e6d88d8b          NaN  2020-06-05   \n",
       "135639  f21d179f-1c4b-437e-b9c6-ab1976907195          NaN  2020-06-05   \n",
       "\n",
       "                         source  \n",
       "0       youtube_channel_reklama  \n",
       "1                  facebook_ads  \n",
       "2         instagram_new_adverts  \n",
       "3                  facebook_ads  \n",
       "4                 yandex_direct  \n",
       "...                         ...  \n",
       "135635    instagram_new_adverts  \n",
       "135636            yandex_direct  \n",
       "135637  youtube_channel_reklama  \n",
       "135638             facebook_ads  \n",
       "135639    instagram_new_adverts  \n",
       "\n",
       "[135640 rows x 7 columns]"
      ]
     },
     "execution_count": 37,
     "metadata": {},
     "output_type": "execute_result"
    }
   ],
   "source": [
    "events"
   ]
  },
  {
   "cell_type": "code",
   "execution_count": 38,
   "id": "98ea3789",
   "metadata": {},
   "outputs": [],
   "source": [
    "# Делаем df с первой датой первого захода в приложение\n",
    "lifetime = events.groupby('user_id').agg({'event_dt':'first'}).reset_index().rename(columns={'event_dt':'first_ts'})\n",
    "lifetime\n",
    "\n",
    "# Добавляем к нашему основному df\n",
    "events = events.merge(lifetime, on='user_id', how='left')\n",
    "\n",
    "# Вычисляем лайфтайм ивента и меняем тип столбца на инт для удобства\n",
    "events['lifetime'] = events['event_datetime'].dt.date - events['first_ts']\n",
    "events['lifetime'] = events['lifetime'].apply(lambda x: x/pd.Timedelta(days=1))\n",
    "events['lifetime'] = events['lifetime'].astype('int64')"
   ]
  },
  {
   "cell_type": "code",
   "execution_count": 39,
   "id": "44ff3729",
   "metadata": {},
   "outputs": [
    {
     "data": {
      "text/plain": [
       "Text(0.5, 1.0, 'День лайфтайма')"
      ]
     },
     "execution_count": 39,
     "metadata": {},
     "output_type": "execute_result"
    },
    {
     "data": {
      "image/png": "[encoded data removed]",
      "text/plain": [
       "<Figure size 864x504 with 1 Axes>"
      ]
     },
     "metadata": {
      "needs_background": "light"
     },
     "output_type": "display_data"
    }
   ],
   "source": [
    "# А теперь построим график\n",
    "\n",
    "plt.figure(figsize=(12,7))\n",
    "sns.countplot(data=events, x='lifetime', color='blue')\n",
    "plt.title('График количества активностей в зависимости от дня lifetime')\n",
    "plt.ylabel('Кол-во событий')\n",
    "plt.title('День лайфтайма')"
   ]
  },
  {
   "cell_type": "markdown",
   "id": "249c22e5",
   "metadata": {},
   "source": [
    "На графике видно, что пользователи проявляют самую высокую активность в день установки приложения, на следующий день она падает вдвое и постепенно расчёт до 6ого дня лайфтайма. По истечению недели количество активностей неуклонно снижается. Важно помнить, что график отображает активности пользователей на 1ом уровне.\n",
    "\n",
    "Теперь мы можем смело сказать, что пик 10-11 мая и дальнейший упадок связаны с уменьшием активности самой большой группы, впервые зашедших в приложение 4ого мая.\n",
    "\n"
   ]
  },
  {
   "cell_type": "markdown",
   "id": "94c77d0b",
   "metadata": {},
   "source": [
    "## Вывод\n",
    "\n",
    "**В данном разделе мы изучили данные и узнали следующее:**\n",
    "\n",
    "1) Общее количество логов  - 135640,\n",
    "\n",
    "2) Уникальное количество пользователей - 13576,\n",
    "\n",
    "3) Количество пользователей, перешедший на 2ой уровень - 5817 (по pve сценарию - 1866, по pvp - 3951),\n",
    "\n",
    "4) Среднее количество ивентов на пользотвателя среди всех - 9.99, среди перешедних на 2ой уровень - 11.77.\n",
    "\n",
    "**Построено и изучено распределение логов во времени, наибольший пик наблюдается 10-11 мая, объясняется тем, пользователи очень активно играют первую неделю, после чего количество активностей идёт на спад. 10-11 мая в активной фазе были все наши пользователи (приходили с 4 по 10 мая), а начиная с 12 мая самая большая по численности группа (пришедшие 4ого мая) стала меньше играть, что привело к резкому снижению кол-ва активностей (ну и логов соответственно).**"
   ]
  },
  {
   "cell_type": "markdown",
   "id": "b1c948ae",
   "metadata": {},
   "source": [
    "<a id=\"step3\"></a>\n",
    "# Ранжирование источников привлечения\n",
    "\n",
    "Для того чтобы проранжировать источники нам необходимо поделить пользователей на группы"
   ]
  },
  {
   "cell_type": "code",
   "execution_count": 40,
   "id": "f85fb92c",
   "metadata": {},
   "outputs": [],
   "source": [
    "# Напишем функцию получения профилей\n",
    "def get_profiles(good_events):\n",
    "    profiles = (\n",
    "        events.sort_values(by=['user_id', 'event_datetime'])\n",
    "        .groupby('user_id')\n",
    "        .agg({\n",
    "            'event_datetime':['first', 'last'],\n",
    "            'source':'first',\n",
    "            'event':'count',\n",
    "            'event_dt':'first'\n",
    "        })\n",
    "        .reset_index()\n",
    "    )\n",
    "    profiles.columns = ['user_id', 'first_ts', 'last_ts', 'source', 'activities','first_dt']\n",
    "    profiles['playtime'] = (profiles['last_ts']- profiles['first_ts'])\n",
    "    profiles = profiles[['user_id', 'first_ts', 'source', 'activities', 'first_dt', 'playtime']]\n",
    "    return profiles"
   ]
  },
  {
   "cell_type": "code",
   "execution_count": 41,
   "id": "f6715fed",
   "metadata": {},
   "outputs": [
    {
     "data": {
      "text/html": [
       "<div>\n",
       "<style scoped>\n",
       "    .dataframe tbody tr th:only-of-type {\n",
       "        vertical-align: middle;\n",
       "    }\n",
       "\n",
       "    .dataframe tbody tr th {\n",
       "        vertical-align: top;\n",
       "    }\n",
       "\n",
       "    .dataframe thead th {\n",
       "        text-align: right;\n",
       "    }\n",
       "</style>\n",
       "<table border=\"1\" class=\"dataframe\">\n",
       "  <thead>\n",
       "    <tr style=\"text-align: right;\">\n",
       "      <th></th>\n",
       "      <th>user_id</th>\n",
       "      <th>first_ts</th>\n",
       "      <th>source</th>\n",
       "      <th>activities</th>\n",
       "      <th>first_dt</th>\n",
       "      <th>playtime</th>\n",
       "    </tr>\n",
       "  </thead>\n",
       "  <tbody>\n",
       "    <tr>\n",
       "      <th>0</th>\n",
       "      <td>0001f83c-c6ac-4621-b7f0-8a28b283ac30</td>\n",
       "      <td>2020-05-06 01:07:37</td>\n",
       "      <td>facebook_ads</td>\n",
       "      <td>13</td>\n",
       "      <td>2020-05-06</td>\n",
       "      <td>346.31</td>\n",
       "    </tr>\n",
       "    <tr>\n",
       "      <th>1</th>\n",
       "      <td>00151b4f-ba38-44a8-a650-d7cf130a0105</td>\n",
       "      <td>2020-05-06 03:09:12</td>\n",
       "      <td>yandex_direct</td>\n",
       "      <td>9</td>\n",
       "      <td>2020-05-06</td>\n",
       "      <td>295.63</td>\n",
       "    </tr>\n",
       "    <tr>\n",
       "      <th>2</th>\n",
       "      <td>001aaea6-3d14-43f1-8ca8-7f48820f17aa</td>\n",
       "      <td>2020-05-05 18:08:52</td>\n",
       "      <td>youtube_channel_reklama</td>\n",
       "      <td>4</td>\n",
       "      <td>2020-05-05</td>\n",
       "      <td>207.21</td>\n",
       "    </tr>\n",
       "    <tr>\n",
       "      <th>3</th>\n",
       "      <td>001d39dc-366c-4021-9604-6a3b9ff01e25</td>\n",
       "      <td>2020-05-05 21:02:05</td>\n",
       "      <td>instagram_new_adverts</td>\n",
       "      <td>9</td>\n",
       "      <td>2020-05-05</td>\n",
       "      <td>154.65</td>\n",
       "    </tr>\n",
       "    <tr>\n",
       "      <th>4</th>\n",
       "      <td>002f508f-67b6-479f-814b-b05f00d4e995</td>\n",
       "      <td>2020-05-05 13:49:58</td>\n",
       "      <td>facebook_ads</td>\n",
       "      <td>12</td>\n",
       "      <td>2020-05-05</td>\n",
       "      <td>396.95</td>\n",
       "    </tr>\n",
       "    <tr>\n",
       "      <th>...</th>\n",
       "      <td>...</td>\n",
       "      <td>...</td>\n",
       "      <td>...</td>\n",
       "      <td>...</td>\n",
       "      <td>...</td>\n",
       "      <td>...</td>\n",
       "    </tr>\n",
       "    <tr>\n",
       "      <th>13571</th>\n",
       "      <td>ffef4fed-164c-40e1-bde1-3980f76d0fb5</td>\n",
       "      <td>2020-05-04 01:58:59</td>\n",
       "      <td>instagram_new_adverts</td>\n",
       "      <td>10</td>\n",
       "      <td>2020-05-04</td>\n",
       "      <td>188.28</td>\n",
       "    </tr>\n",
       "    <tr>\n",
       "      <th>13572</th>\n",
       "      <td>fffab3da-da0e-4e30-ae62-10d0a2e24a4e</td>\n",
       "      <td>2020-05-04 11:58:14</td>\n",
       "      <td>facebook_ads</td>\n",
       "      <td>16</td>\n",
       "      <td>2020-05-04</td>\n",
       "      <td>238.22</td>\n",
       "    </tr>\n",
       "    <tr>\n",
       "      <th>13573</th>\n",
       "      <td>fffb626c-5ab6-47c9-8113-2062a2f18494</td>\n",
       "      <td>2020-05-04 02:05:09</td>\n",
       "      <td>yandex_direct</td>\n",
       "      <td>10</td>\n",
       "      <td>2020-05-04</td>\n",
       "      <td>202.95</td>\n",
       "    </tr>\n",
       "    <tr>\n",
       "      <th>13574</th>\n",
       "      <td>ffff194a-56b7-4c12-860d-3485242ae7f5</td>\n",
       "      <td>2020-05-04 20:28:28</td>\n",
       "      <td>instagram_new_adverts</td>\n",
       "      <td>7</td>\n",
       "      <td>2020-05-04</td>\n",
       "      <td>169.60</td>\n",
       "    </tr>\n",
       "    <tr>\n",
       "      <th>13575</th>\n",
       "      <td>ffff69cc-fec1-4fd3-9f98-93be1112a6b8</td>\n",
       "      <td>2020-05-08 06:57:30</td>\n",
       "      <td>facebook_ads</td>\n",
       "      <td>14</td>\n",
       "      <td>2020-05-08</td>\n",
       "      <td>415.14</td>\n",
       "    </tr>\n",
       "  </tbody>\n",
       "</table>\n",
       "<p>13576 rows × 6 columns</p>\n",
       "</div>"
      ],
      "text/plain": [
       "                                    user_id            first_ts  \\\n",
       "0      0001f83c-c6ac-4621-b7f0-8a28b283ac30 2020-05-06 01:07:37   \n",
       "1      00151b4f-ba38-44a8-a650-d7cf130a0105 2020-05-06 03:09:12   \n",
       "2      001aaea6-3d14-43f1-8ca8-7f48820f17aa 2020-05-05 18:08:52   \n",
       "3      001d39dc-366c-4021-9604-6a3b9ff01e25 2020-05-05 21:02:05   \n",
       "4      002f508f-67b6-479f-814b-b05f00d4e995 2020-05-05 13:49:58   \n",
       "...                                     ...                 ...   \n",
       "13571  ffef4fed-164c-40e1-bde1-3980f76d0fb5 2020-05-04 01:58:59   \n",
       "13572  fffab3da-da0e-4e30-ae62-10d0a2e24a4e 2020-05-04 11:58:14   \n",
       "13573  fffb626c-5ab6-47c9-8113-2062a2f18494 2020-05-04 02:05:09   \n",
       "13574  ffff194a-56b7-4c12-860d-3485242ae7f5 2020-05-04 20:28:28   \n",
       "13575  ffff69cc-fec1-4fd3-9f98-93be1112a6b8 2020-05-08 06:57:30   \n",
       "\n",
       "                        source  activities    first_dt  playtime  \n",
       "0                 facebook_ads          13  2020-05-06    346.31  \n",
       "1                yandex_direct           9  2020-05-06    295.63  \n",
       "2      youtube_channel_reklama           4  2020-05-05    207.21  \n",
       "3        instagram_new_adverts           9  2020-05-05    154.65  \n",
       "4                 facebook_ads          12  2020-05-05    396.95  \n",
       "...                        ...         ...         ...       ...  \n",
       "13571    instagram_new_adverts          10  2020-05-04    188.28  \n",
       "13572             facebook_ads          16  2020-05-04    238.22  \n",
       "13573            yandex_direct          10  2020-05-04    202.95  \n",
       "13574    instagram_new_adverts           7  2020-05-04    169.60  \n",
       "13575             facebook_ads          14  2020-05-08    415.14  \n",
       "\n",
       "[13576 rows x 6 columns]"
      ]
     },
     "execution_count": 41,
     "metadata": {},
     "output_type": "execute_result"
    }
   ],
   "source": [
    "# Получим профили пользователей\n",
    "prof = get_profiles(events)\n",
    "# переводим playtime в часы\n",
    "prof['playtime'] = prof['playtime'].apply(lambda x: round(x/pd.Timedelta('1 hour'),2))\n",
    "prof"
   ]
  },
  {
   "cell_type": "code",
   "execution_count": 42,
   "id": "2df02c8f",
   "metadata": {},
   "outputs": [
    {
     "data": {
      "text/html": [
       "<div>\n",
       "<style scoped>\n",
       "    .dataframe tbody tr th:only-of-type {\n",
       "        vertical-align: middle;\n",
       "    }\n",
       "\n",
       "    .dataframe tbody tr th {\n",
       "        vertical-align: top;\n",
       "    }\n",
       "\n",
       "    .dataframe thead th {\n",
       "        text-align: right;\n",
       "    }\n",
       "</style>\n",
       "<table border=\"1\" class=\"dataframe\">\n",
       "  <thead>\n",
       "    <tr style=\"text-align: right;\">\n",
       "      <th></th>\n",
       "      <th>dt</th>\n",
       "      <th>source</th>\n",
       "      <th>num_of_users</th>\n",
       "      <th>act_mean</th>\n",
       "      <th>act_med</th>\n",
       "      <th>playtime_mean</th>\n",
       "      <th>playtime_med</th>\n",
       "    </tr>\n",
       "  </thead>\n",
       "  <tbody>\n",
       "    <tr>\n",
       "      <th>0</th>\n",
       "      <td>2020-05-04</td>\n",
       "      <td>facebook_ads</td>\n",
       "      <td>1184</td>\n",
       "      <td>11.167230</td>\n",
       "      <td>12.0</td>\n",
       "      <td>275.182424</td>\n",
       "      <td>270.600</td>\n",
       "    </tr>\n",
       "    <tr>\n",
       "      <th>1</th>\n",
       "      <td>2020-05-04</td>\n",
       "      <td>instagram_new_adverts</td>\n",
       "      <td>1452</td>\n",
       "      <td>11.062672</td>\n",
       "      <td>11.5</td>\n",
       "      <td>270.846136</td>\n",
       "      <td>264.275</td>\n",
       "    </tr>\n",
       "    <tr>\n",
       "      <th>2</th>\n",
       "      <td>2020-05-04</td>\n",
       "      <td>yandex_direct</td>\n",
       "      <td>2078</td>\n",
       "      <td>10.796920</td>\n",
       "      <td>11.0</td>\n",
       "      <td>270.490717</td>\n",
       "      <td>262.870</td>\n",
       "    </tr>\n",
       "    <tr>\n",
       "      <th>3</th>\n",
       "      <td>2020-05-04</td>\n",
       "      <td>youtube_channel_reklama</td>\n",
       "      <td>1146</td>\n",
       "      <td>10.911867</td>\n",
       "      <td>11.0</td>\n",
       "      <td>270.276038</td>\n",
       "      <td>265.380</td>\n",
       "    </tr>\n",
       "    <tr>\n",
       "      <th>4</th>\n",
       "      <td>2020-05-05</td>\n",
       "      <td>facebook_ads</td>\n",
       "      <td>694</td>\n",
       "      <td>10.534582</td>\n",
       "      <td>11.0</td>\n",
       "      <td>252.757104</td>\n",
       "      <td>247.865</td>\n",
       "    </tr>\n",
       "  </tbody>\n",
       "</table>\n",
       "</div>"
      ],
      "text/plain": [
       "          dt                   source  num_of_users   act_mean  act_med  \\\n",
       "0 2020-05-04             facebook_ads          1184  11.167230     12.0   \n",
       "1 2020-05-04    instagram_new_adverts          1452  11.062672     11.5   \n",
       "2 2020-05-04            yandex_direct          2078  10.796920     11.0   \n",
       "3 2020-05-04  youtube_channel_reklama          1146  10.911867     11.0   \n",
       "4 2020-05-05             facebook_ads           694  10.534582     11.0   \n",
       "\n",
       "   playtime_mean  playtime_med  \n",
       "0     275.182424       270.600  \n",
       "1     270.846136       264.275  \n",
       "2     270.490717       262.870  \n",
       "3     270.276038       265.380  \n",
       "4     252.757104       247.865  "
      ]
     },
     "execution_count": 42,
     "metadata": {},
     "output_type": "execute_result"
    }
   ],
   "source": [
    "# Cделаем когортную таблицу для предварительного сравнения рекламных источников.\n",
    "cohort_table = (\n",
    "    prof.groupby(['first_dt','source'])\n",
    "    .agg({'user_id':'nunique',\n",
    "          'activities':['mean', 'median'],\n",
    "          'playtime':['mean', 'median']\n",
    "        })\n",
    ").reset_index()\n",
    "cohort_table.columns=['dt','source','num_of_users','act_mean', 'act_med','playtime_mean','playtime_med']\n",
    "\n",
    "# Для удобства переведём среднее и медианное время проведенное в игре в часы\n",
    "cohort_table['dt'] = pd.to_datetime(cohort_table['dt'])\n",
    "cohort_table.head()"
   ]
  },
  {
   "cell_type": "code",
   "execution_count": 43,
   "id": "bb275e08",
   "metadata": {},
   "outputs": [
    {
     "data": {
      "text/html": [
       "<div>\n",
       "<style scoped>\n",
       "    .dataframe tbody tr th:only-of-type {\n",
       "        vertical-align: middle;\n",
       "    }\n",
       "\n",
       "    .dataframe tbody tr th {\n",
       "        vertical-align: top;\n",
       "    }\n",
       "\n",
       "    .dataframe thead th {\n",
       "        text-align: right;\n",
       "    }\n",
       "</style>\n",
       "<table border=\"1\" class=\"dataframe\">\n",
       "  <thead>\n",
       "    <tr style=\"text-align: right;\">\n",
       "      <th></th>\n",
       "      <th>source</th>\n",
       "      <th>dt</th>\n",
       "      <th>cost</th>\n",
       "      <th>num_of_users</th>\n",
       "      <th>cac</th>\n",
       "    </tr>\n",
       "  </thead>\n",
       "  <tbody>\n",
       "    <tr>\n",
       "      <th>1</th>\n",
       "      <td>facebook_ads</td>\n",
       "      <td>2020-05-04</td>\n",
       "      <td>548.354480</td>\n",
       "      <td>1184.0</td>\n",
       "      <td>0.463137</td>\n",
       "    </tr>\n",
       "    <tr>\n",
       "      <th>2</th>\n",
       "      <td>facebook_ads</td>\n",
       "      <td>2020-05-05</td>\n",
       "      <td>260.185754</td>\n",
       "      <td>694.0</td>\n",
       "      <td>0.374907</td>\n",
       "    </tr>\n",
       "    <tr>\n",
       "      <th>3</th>\n",
       "      <td>facebook_ads</td>\n",
       "      <td>2020-05-06</td>\n",
       "      <td>177.982200</td>\n",
       "      <td>345.0</td>\n",
       "      <td>0.515890</td>\n",
       "    </tr>\n",
       "    <tr>\n",
       "      <th>4</th>\n",
       "      <td>facebook_ads</td>\n",
       "      <td>2020-05-07</td>\n",
       "      <td>111.766796</td>\n",
       "      <td>224.0</td>\n",
       "      <td>0.498959</td>\n",
       "    </tr>\n",
       "    <tr>\n",
       "      <th>5</th>\n",
       "      <td>facebook_ads</td>\n",
       "      <td>2020-05-08</td>\n",
       "      <td>68.009276</td>\n",
       "      <td>139.0</td>\n",
       "      <td>0.489275</td>\n",
       "    </tr>\n",
       "  </tbody>\n",
       "</table>\n",
       "</div>"
      ],
      "text/plain": [
       "         source         dt        cost  num_of_users       cac\n",
       "1  facebook_ads 2020-05-04  548.354480        1184.0  0.463137\n",
       "2  facebook_ads 2020-05-05  260.185754         694.0  0.374907\n",
       "3  facebook_ads 2020-05-06  177.982200         345.0  0.515890\n",
       "4  facebook_ads 2020-05-07  111.766796         224.0  0.498959\n",
       "5  facebook_ads 2020-05-08   68.009276         139.0  0.489275"
      ]
     },
     "execution_count": 43,
     "metadata": {},
     "output_type": "execute_result"
    }
   ],
   "source": [
    "# Объединим таблицы adv и cohort_table, чтобы определить Customer Acquisition Cost\n",
    "adv = adv.rename(columns={'day':'dt'})\n",
    "adv = adv.merge(cohort_table[['dt','source','num_of_users']], on=['source','dt'], how='left').dropna()\n",
    "adv['cac'] = adv['cost']/adv['num_of_users']\n",
    "adv.head()"
   ]
  },
  {
   "cell_type": "code",
   "execution_count": 44,
   "id": "d44d3b97",
   "metadata": {},
   "outputs": [
    {
     "data": {
      "text/html": [
       "<div>\n",
       "<style scoped>\n",
       "    .dataframe tbody tr th:only-of-type {\n",
       "        vertical-align: middle;\n",
       "    }\n",
       "\n",
       "    .dataframe tbody tr th {\n",
       "        vertical-align: top;\n",
       "    }\n",
       "\n",
       "    .dataframe thead th {\n",
       "        text-align: right;\n",
       "    }\n",
       "</style>\n",
       "<table border=\"1\" class=\"dataframe\">\n",
       "  <thead>\n",
       "    <tr style=\"text-align: right;\">\n",
       "      <th></th>\n",
       "      <th>dt</th>\n",
       "      <th>source</th>\n",
       "      <th>num_of_users</th>\n",
       "      <th>act_mean</th>\n",
       "      <th>act_med</th>\n",
       "      <th>playtime_mean</th>\n",
       "      <th>playtime_med</th>\n",
       "      <th>cac</th>\n",
       "    </tr>\n",
       "  </thead>\n",
       "  <tbody>\n",
       "    <tr>\n",
       "      <th>0</th>\n",
       "      <td>2020-05-04</td>\n",
       "      <td>facebook_ads</td>\n",
       "      <td>1184</td>\n",
       "      <td>11.167230</td>\n",
       "      <td>12.0</td>\n",
       "      <td>275.182424</td>\n",
       "      <td>270.600</td>\n",
       "      <td>0.463137</td>\n",
       "    </tr>\n",
       "    <tr>\n",
       "      <th>1</th>\n",
       "      <td>2020-05-04</td>\n",
       "      <td>instagram_new_adverts</td>\n",
       "      <td>1452</td>\n",
       "      <td>11.062672</td>\n",
       "      <td>11.5</td>\n",
       "      <td>270.846136</td>\n",
       "      <td>264.275</td>\n",
       "      <td>0.346367</td>\n",
       "    </tr>\n",
       "    <tr>\n",
       "      <th>2</th>\n",
       "      <td>2020-05-04</td>\n",
       "      <td>yandex_direct</td>\n",
       "      <td>2078</td>\n",
       "      <td>10.796920</td>\n",
       "      <td>11.0</td>\n",
       "      <td>270.490717</td>\n",
       "      <td>262.870</td>\n",
       "      <td>0.266916</td>\n",
       "    </tr>\n",
       "    <tr>\n",
       "      <th>3</th>\n",
       "      <td>2020-05-04</td>\n",
       "      <td>youtube_channel_reklama</td>\n",
       "      <td>1146</td>\n",
       "      <td>10.911867</td>\n",
       "      <td>11.0</td>\n",
       "      <td>270.276038</td>\n",
       "      <td>265.380</td>\n",
       "      <td>0.226067</td>\n",
       "    </tr>\n",
       "    <tr>\n",
       "      <th>4</th>\n",
       "      <td>2020-05-05</td>\n",
       "      <td>facebook_ads</td>\n",
       "      <td>694</td>\n",
       "      <td>10.534582</td>\n",
       "      <td>11.0</td>\n",
       "      <td>252.757104</td>\n",
       "      <td>247.865</td>\n",
       "      <td>0.374907</td>\n",
       "    </tr>\n",
       "  </tbody>\n",
       "</table>\n",
       "</div>"
      ],
      "text/plain": [
       "          dt                   source  num_of_users   act_mean  act_med  \\\n",
       "0 2020-05-04             facebook_ads          1184  11.167230     12.0   \n",
       "1 2020-05-04    instagram_new_adverts          1452  11.062672     11.5   \n",
       "2 2020-05-04            yandex_direct          2078  10.796920     11.0   \n",
       "3 2020-05-04  youtube_channel_reklama          1146  10.911867     11.0   \n",
       "4 2020-05-05             facebook_ads           694  10.534582     11.0   \n",
       "\n",
       "   playtime_mean  playtime_med       cac  \n",
       "0     275.182424       270.600  0.463137  \n",
       "1     270.846136       264.275  0.346367  \n",
       "2     270.490717       262.870  0.266916  \n",
       "3     270.276038       265.380  0.226067  \n",
       "4     252.757104       247.865  0.374907  "
      ]
     },
     "execution_count": 44,
     "metadata": {},
     "output_type": "execute_result"
    }
   ],
   "source": [
    "# Добавим cac в таблицу cohort_table\n",
    "cohort_table = cohort_table.merge(adv[['dt','source','cac']], on=['source','dt'], how='left')\n",
    "cohort_table.head()"
   ]
  },
  {
   "cell_type": "markdown",
   "id": "a0864145",
   "metadata": {},
   "source": [
    "<div class=\"alert alert-info\"> <b>Комментарий студента:</b> \n",
    "Вот тут я не знаю, поступил правильно или нет, стоимость привлечения мы посчитали тоже только для тех, кто перешёл на второй уровень(а можно посчитать и для тех, кто до сих пор воююет и не перешёл), ну надеюбсь ты подскажешь как поступить, пока буду считать таким образом.\n",
    "    \n",
    "Во всяком случае я руководствовался так, начинаем монетизировать со второго уровня, поэтому важнее рассмотреть тех, кто уже туда перешёл, а не тех кто занимается чисто ПВП или быть может вообще отвалился (проверить никак не можем).\n",
    " </div>"
   ]
  },
  {
   "cell_type": "markdown",
   "id": "2c3f5b0c",
   "metadata": {},
   "source": [
    "<div class=\"alert alert-danger\">\n",
    "    <p><b>Комментарий тимлида: </b></p>\n",
    "    \n",
    "помечу красным, так как новая информацию повлечёт небольшие изменения в работе.\n",
    "    \n",
    "---\n",
    "\n",
    "Да, безусловно наиболее интересны те пользователи, что прошли на след уровень. И наша задача как можно меньше отпугнуть подобных пользователей. Однако не стоит заставлять их окупать и «себя и того парня». Ведь остальные пользователи тоже играют в игру, тоже смотрят рекламу, следовательно, тоже приносят деньги. Даже больше, некоторые из них могут и себя окупить, и ещё кого-нибудь. Хотя да, большинство окупились лишь частично. Но на непрошедших приходится почти половина всех событий, следовательно, они приносят значимую часть от общего дохода.\n",
    "    \n",
    "Нам следует окупить всех пользователей за счёт всех событий, и при этом как можно меньше отпугнуть «вовлечённых» новой рекламой.\n",
    "    \n",
    "</div>\n"
   ]
  },
  {
   "cell_type": "markdown",
   "id": "4d468227",
   "metadata": {},
   "source": [
    "<div class=\"alert alert-info\"> <b>Комментарий студента:</b> \n",
    "Окей, сделал для всех. Хотя мы вроде договаривались, что у нас монетизация со второго уровня(поэтому не брал в расчёт тех, кто за месяц игры на второй уровень не перешёл)... Ну да ладно, может не так понял)\n",
    " </div>"
   ]
  },
  {
   "cell_type": "code",
   "execution_count": 45,
   "id": "a097e86c",
   "metadata": {},
   "outputs": [
    {
     "data": {
      "text/plain": [
       "source\n",
       "instagram_new_adverts      258.923\n",
       "facebook_ads               257.555\n",
       "yandex_direct              254.774\n",
       "youtube_channel_reklama    254.084\n",
       "Name: playtime, dtype: float64"
      ]
     },
     "metadata": {},
     "output_type": "display_data"
    },
    {
     "data": {
      "text/plain": [
       "source\n",
       "facebook_ads               10.151\n",
       "instagram_new_adverts      10.086\n",
       "yandex_direct               9.901\n",
       "youtube_channel_reklama     9.872\n",
       "Name: activities, dtype: float64"
      ]
     },
     "metadata": {},
     "output_type": "display_data"
    },
    {
     "data": {
      "text/plain": [
       "source\n",
       "facebook_ads               0.467\n",
       "instagram_new_adverts      0.390\n",
       "yandex_direct              0.274\n",
       "youtube_channel_reklama    0.246\n",
       "Name: cac, dtype: float64"
      ]
     },
     "metadata": {},
     "output_type": "display_data"
    }
   ],
   "source": [
    "# Посмотрим игроки из какого источника всреднем строят больше зданий. какие тратят больше времени на прохождение, оценим cac\n",
    "avg_pt = prof.groupby('source')['playtime'].mean().sort_values(ascending=False).apply(lambda x: round(x,3))\n",
    "avg_act = prof.groupby('source')['activities'].mean().sort_values(ascending=False).apply(lambda x: round(x,3))\n",
    "avg_cac = cohort_table.groupby('source')['cac'].mean().sort_values(ascending=False).apply(lambda x: round(x,3))\n",
    "\n",
    "display(avg_pt)\n",
    "display(avg_act)\n",
    "display(avg_cac)"
   ]
  },
  {
   "cell_type": "markdown",
   "id": "91c564be",
   "metadata": {},
   "source": [
    "Отличия в среднем времени, затраченном на прохождение первого уровня небольшие, но всё же есть - быстрее всего это делают пользователи из Ютюба и Яндекс Директа (различия порядка 41 минуты в пользу первого) далее с отставанием в 3 часа идёт Фейсбук, ну а больше всего времени на прохождение первого уровня уходит у пользователей из Инстаграмма.\n",
    "\n",
    "По среднему количествую построек все источники показывают примерно один и тот же результат, разница между первым и последним местом менее 3%.\n",
    "\n",
    "Самые дешевые пользователи приходят из Youtube - 0.246 y.e., чуть дороже всреднем обходится пользователь из Яндекс Директа 0.274 y.e., на на 58% дороже Ютюда обойдутся пользователи Instagram (0.39 у.е.), ну а \"золотыми\" (в плохом смысле этого слова) будут пользователи Facebook с пок-ем 0.467 у.е."
   ]
  },
  {
   "cell_type": "code",
   "execution_count": 46,
   "id": "4db0a968",
   "metadata": {},
   "outputs": [
    {
     "data": {
      "image/png": "[encoded data removed]",
      "text/plain": [
       "<Figure size 576x1080 with 3 Axes>"
      ]
     },
     "metadata": {
      "needs_background": "light"
     },
     "output_type": "display_data"
    }
   ],
   "source": [
    "table_list = [avg_pt, avg_act, avg_cac]\n",
    "plt.figure(figsize=(8,15))\n",
    "for i,j in enumerate(table_list):\n",
    "    plt.subplot(3,1,i+1)\n",
    "    sns.barplot(x=j.index, y=j.to_list())\n",
    "    plt.title('Среднее {} в разрезе источников привлечения'.format(table_list[i].name))\n",
    "    plt.subplots_adjust(hspace=0.5)\n",
    "    plt.xlabel('Источник')"
   ]
  },
  {
   "cell_type": "markdown",
   "id": "a4d21514",
   "metadata": {},
   "source": [
    "Как мы можем заметить из графиков существенная разница между источниками заключается только в стоимости привлечения.\n",
    "\n",
    "Наше приложение зарабатывает деньги через показы рекламы во время выбора объекта для строительства, из набора доступных нам данных, самым оптимальным будет среднее количество построенных зданий (как я уже сказал - это наши деньги, чем больше, тем лучше), деленное на стоимость привлечения пользователя и время, потраченное на прохождение уровня (более быстрое прохождение показывает большую заинтересованность игрока, что означает снижение вероятности бросить игру). Для удобства домножим вычисленный параметр на 1000.\n",
    "\n",
    "Объединим таблицы avg_pt, avg_act, avg_cac в одну и добавим столбец, вычисляемый по формуле выше."
   ]
  },
  {
   "cell_type": "code",
   "execution_count": 47,
   "id": "f9daafb5",
   "metadata": {},
   "outputs": [
    {
     "data": {
      "text/html": [
       "<div>\n",
       "<style scoped>\n",
       "    .dataframe tbody tr th:only-of-type {\n",
       "        vertical-align: middle;\n",
       "    }\n",
       "\n",
       "    .dataframe tbody tr th {\n",
       "        vertical-align: top;\n",
       "    }\n",
       "\n",
       "    .dataframe thead th {\n",
       "        text-align: right;\n",
       "    }\n",
       "</style>\n",
       "<table border=\"1\" class=\"dataframe\">\n",
       "  <thead>\n",
       "    <tr style=\"text-align: right;\">\n",
       "      <th></th>\n",
       "      <th>playtime</th>\n",
       "      <th>activities</th>\n",
       "      <th>cac</th>\n",
       "      <th>value</th>\n",
       "    </tr>\n",
       "    <tr>\n",
       "      <th>source</th>\n",
       "      <th></th>\n",
       "      <th></th>\n",
       "      <th></th>\n",
       "      <th></th>\n",
       "    </tr>\n",
       "  </thead>\n",
       "  <tbody>\n",
       "    <tr>\n",
       "      <th>youtube_channel_reklama</th>\n",
       "      <td>254.084</td>\n",
       "      <td>9.872</td>\n",
       "      <td>0.246</td>\n",
       "      <td>157.9402</td>\n",
       "    </tr>\n",
       "    <tr>\n",
       "      <th>yandex_direct</th>\n",
       "      <td>254.774</td>\n",
       "      <td>9.901</td>\n",
       "      <td>0.274</td>\n",
       "      <td>141.8317</td>\n",
       "    </tr>\n",
       "    <tr>\n",
       "      <th>instagram_new_adverts</th>\n",
       "      <td>258.923</td>\n",
       "      <td>10.086</td>\n",
       "      <td>0.390</td>\n",
       "      <td>99.8812</td>\n",
       "    </tr>\n",
       "    <tr>\n",
       "      <th>facebook_ads</th>\n",
       "      <td>257.555</td>\n",
       "      <td>10.151</td>\n",
       "      <td>0.467</td>\n",
       "      <td>84.3960</td>\n",
       "    </tr>\n",
       "  </tbody>\n",
       "</table>\n",
       "</div>"
      ],
      "text/plain": [
       "                         playtime  activities    cac     value\n",
       "source                                                        \n",
       "youtube_channel_reklama   254.084       9.872  0.246  157.9402\n",
       "yandex_direct             254.774       9.901  0.274  141.8317\n",
       "instagram_new_adverts     258.923      10.086  0.390   99.8812\n",
       "facebook_ads              257.555      10.151  0.467   84.3960"
      ]
     },
     "execution_count": 47,
     "metadata": {},
     "output_type": "execute_result"
    }
   ],
   "source": [
    "rang_source = pd.concat([avg_pt, avg_act, avg_cac], axis=1)\n",
    "rang_source['value'] = round((rang_source['activities'] / rang_source['playtime'] / rang_source['cac'] * 1000),4)\n",
    "rang_source.sort_values(by='value', ascending=False)"
   ]
  },
  {
   "cell_type": "markdown",
   "id": "1106c84a",
   "metadata": {},
   "source": [
    "Т.о., используя наш параметр, мы проранжировали источники привлечения пользователей:\n",
    "\n",
    "Самым выгодным оказалась реклама на Youtube с условным показателем эффективности в практически 158 единиц,\n",
    "\n",
    "На 16 пунктов эффективности ниже реклама Яндекс Директа (на 10.2% менее эффективна чем лидер),\n",
    "\n",
    "С отставанием на 56 пунктов эффективности от лидера, на третьем месте располагается реклама из Instagram(на 36.7% менее эффективна),\n",
    "\n",
    "Ну а на последнем месте, с показателем, практически вдвое меньше чем у лидера находится реклама в Facebook (эффективность на 46,6% ниже чем у лидера).\n",
    "\n",
    "Подводя краткий итог, можно сказать, поведение пользователей из различных источников практически идентично, более значимую роль играет стоимость их привлечения."
   ]
  },
  {
   "cell_type": "markdown",
   "id": "c46d5209",
   "metadata": {},
   "source": [
    "## Вывод\n",
    "\n",
    "**В этом разделе мы создали профили пользователей, поделили их на когорты, в зависимости от рекламной компании в которой они пришли, для каждой когорты рассчитали среднее и медианное количество активностей и затраченных на прохождение уровня часов, вычислили САС для каждого из каналов, после чего ввели условный параметр эффективности, приняв, что самые эффективные пользователи это те - у кого показатель выше показатель количество активностей в ед.времени / на стоимость.**\n",
    "\n",
    "**Наибольший вес играла стоимость привлечения, поэтому самым эффективным источником стал Youtube, пользователи оттуда стоят недорого, а остальные параметры +- равны для всех источников привлечения. На втором месте по эффективности Яндекс-директ (с небольшим оставанием от лидера). Третье и четвертое место занимают Инстаграм и Фейсбук соответственно, пользователи оттуда много дороже пользователей из Youtube и Яндекс-директа, поэтому и эффективность ниже.**"
   ]
  },
  {
   "cell_type": "markdown",
   "id": "1781ac19",
   "metadata": {},
   "source": [
    "<a id=\"step4\"></a>\n",
    "# Проверка гипотез\n",
    "\n",
    "В данном разделе мы проверим две гипотезы:\n",
    "\n",
    "1) Время завершения уровня различается в зависимости способа прохождения: через реализацию проекта/через победу над первым игроком.\n",
    "\n",
    "2) Количество построенных зданий различается в зависимости от способа прохождения.\n",
    "\n",
    "**Начнём с гипотезы про время завершения проекта, сформируем нулевую и альтернативную гипотезы:**\n",
    "\n",
    "- H0 - Среднее время прохождение уровня не различается в зависимости способа прохождения.\n",
    "\n",
    "- Н1 - Среднее время прохождение уровня различается в зависимости способа прохождения."
   ]
  },
  {
   "cell_type": "markdown",
   "id": "d5b9056a",
   "metadata": {},
   "source": [
    "<div class=\"alert alert-warning\">\n",
    "    <p><b>Комментарий тимлида: </b></p>\n",
    "    \n",
    "**Среднее** временя прохождения...\n",
    "    \n",
    "Так как ниже ты используешь t-тест, а он проверяет гипотезу о равенстве средних значений (оценок мат. ожидания). Стат. гипотезы должны быть согласованы с используемым критерием. Так, например, при использовании z-теста, гипотезы были бы уже о долях и т.д.\n",
    "</div>"
   ]
  },
  {
   "cell_type": "markdown",
   "id": "47eea4aa",
   "metadata": {},
   "source": [
    "<div class=\"alert alert-info\"> <b>Комментарий студента:</b> \n",
    "Понял о чём ты говоришь, запомнил и подправил\n",
    " </div>"
   ]
  },
  {
   "cell_type": "code",
   "execution_count": 48,
   "id": "80cdfb88",
   "metadata": {},
   "outputs": [],
   "source": [
    "# Id пользователями выполнившими проект\n",
    "pve_users = good_events[good_events['event']=='project']['user_id'].unique()\n",
    "\n",
    "# Sample с длительностью для pve\n",
    "pve_df = prof[prof['user_id'].isin(pve_users)].reset_index()['playtime'].to_list()\n",
    "\n",
    "# Sample с длительностью для pvp\n",
    "pvp_df = prof[~prof['user_id'].isin(pve_users)].reset_index()['playtime'].to_list()"
   ]
  },
  {
   "cell_type": "code",
   "execution_count": 49,
   "id": "2e835fda",
   "metadata": {},
   "outputs": [
    {
     "name": "stdout",
     "output_type": "stream",
     "text": [
      "p-значение:  9.7498378624608e-231\n",
      "Отвергаем нулевую гипотезу\n"
     ]
    }
   ],
   "source": [
    "# Значение альфа установим на стандартном 5%\n",
    "alpha = 0.05\n",
    "\n",
    "# Проводим тест на сравнение средних в двух ген.совокупностях\n",
    "result_hyp1 = st.ttest_ind(pve_df, pvp_df, equal_var=False)\n",
    "print('p-значение: ', result_hyp1.pvalue)\n",
    "if result_hyp1.pvalue < alpha:\n",
    "    print('Отвергаем нулевую гипотезу')\n",
    "else:\n",
    "    print('Не удалось отвергнуть нулевую гипотезу') "
   ]
  },
  {
   "cell_type": "markdown",
   "id": "127891b4",
   "metadata": {},
   "source": [
    "Мы получили очень маленькое значение p-value, это означает, что при условии что время прохождение через pve и pvp одинаковое, то вероятность получить такие значения или еще более выраженные (чем наши сравниваемые pve_df и pvp_df) составляет 5.7 на 10^(-107). Базон Хикса нервно курит в сторонке...\n",
    "Отвергаем нулевую гипотезу в пользу альтернативной.\n",
    "\n",
    "**Переходим к гипотезе №2:** Среднее количество построенных зданий различается в зависимости от способа прохождения - через реализацию проекта/через победу над первым игроком.\n",
    "\n",
    "- H0 - Среднее значения количество построенных зданий не различается в зависимости способа прохождения.\n",
    "\n",
    "- Н1 - Среднее значения количество построенных зданий различается в зависимости способа прохождения."
   ]
  },
  {
   "cell_type": "markdown",
   "id": "48393c97",
   "metadata": {},
   "source": [
    "<div class=\"alert alert-danger\">\n",
    "    <p><b>Комментарий тимлида: </b></p>\n",
    "    \n",
    "Что значит различается количество построек? Как оно различается? Все значения одной выборки равны всем значениям другой выборки? Разные дисперсии? Разное мат. ожидание?\n",
    "    \n",
    "ты используешь t-тест, он не может проверить гипотезу «две выборки не различаются». Он может проверить только гипотезу «среднее значения (оценки мот ожидания) двух выборок не различаются».\n",
    "    \n",
    "Нужно формулировать стат. гипотезы согласно используемому стат. методу.\n",
    "</div>\n"
   ]
  },
  {
   "cell_type": "markdown",
   "id": "94af7eef",
   "metadata": {},
   "source": [
    "<div class=\"alert alert-info\"> <b>Комментарий студента:</b> \n",
    "Знаю про свои пробелы в статитике, после окончания курса, хоть и нашёл работу системным аналитиком (жаль не da и не pa) буд гразть гранит алгебры, мат.анализа, статистики и тервера (1 и 2 отлично знал н6 лет назад, но не знал что оно пригодится, а 3 и 4 вообще никогда не было, энергитикам не преподают такое). Очень замотивирован попасть в профессиональный анализ, навыки буду совершетсвовать... Уверен через год буду ладошкой себе лицо отбивать со словами, как такую дичь можно было написать :D\n",
    " </div>"
   ]
  },
  {
   "cell_type": "code",
   "execution_count": 50,
   "id": "8ec8788c",
   "metadata": {},
   "outputs": [],
   "source": [
    "# Id пользователями выполнившими проект\n",
    "pve_users = good_events[good_events['event']=='project']['user_id'].unique()\n",
    "\n",
    "# Df с pve_пользователями\n",
    "pve_df = good_events.query('user_id.isin(@pve_users) and event==\"building\"').reset_index(drop=True)\n",
    "\n",
    "# Sample с количеством построек для игроков по сценарию pve\n",
    "pve_buildings = pve_df.groupby('user_id').agg({'event':'count'}).reset_index()['event'].to_list()"
   ]
  },
  {
   "cell_type": "code",
   "execution_count": 51,
   "id": "7026ec29",
   "metadata": {},
   "outputs": [],
   "source": [
    "# Df с pvp_пользователями\n",
    "pvp_df = good_events.query('~user_id.isin(@pve_users) and event==\"building\"').reset_index(drop=True)\n",
    "\n",
    "# Sample с количеством построек для игроков по сценарию pvp\n",
    "pvp_buildings = pvp_df.groupby('user_id').agg({'event':'count'}).reset_index()['event'].to_list()"
   ]
  },
  {
   "cell_type": "code",
   "execution_count": 52,
   "id": "844b4a19",
   "metadata": {},
   "outputs": [
    {
     "name": "stdout",
     "output_type": "stream",
     "text": [
      "p-значение:  0.0\n",
      "Отвергаем нулевую гипотезу\n"
     ]
    }
   ],
   "source": [
    "# Значение альфа установим на стандартном 5%\n",
    "alpha = 0.05\n",
    "\n",
    "# Проводим тест на сравнение средних в двух ген.совокупностях\n",
    "result_hyp2 = st.ttest_ind(pve_buildings, pvp_buildings, equal_var=False)\n",
    "print('p-значение: ', result_hyp2.pvalue)\n",
    "if result_hyp2.pvalue < alpha:\n",
    "    print('Отвергаем нулевую гипотезу')\n",
    "else:\n",
    "    print('Не удалось отвергнуть нулевую гипотезу') "
   ]
  },
  {
   "cell_type": "markdown",
   "id": "7bc6bc5a",
   "metadata": {},
   "source": [
    "Вновь отвергаем нулевую гипотезу в пользу альтернативной\n",
    "\n",
    "<div class=\"alert alert-info\"> <b>Комментарий студента:</b> \n",
    "Вот тут я растерялся, это какая-то ошибка в расчётах или же разница настолько сильна, что получить такие рез-ты как у нас просто невозможно?\n",
    " </div>\n",
    " \n",
    " "
   ]
  },
  {
   "cell_type": "code",
   "execution_count": 61,
   "id": "7a63357a",
   "metadata": {},
   "outputs": [
    {
     "name": "stdout",
     "output_type": "stream",
     "text": [
      "Медианное время на прохождение pve: 312.76\n",
      "Медианное время на прохождение pvp: 240.37\n",
      "Медианное количество построек pve: 12.0\n",
      "Медианное количество построек pvp: 10.0\n"
     ]
    }
   ],
   "source": [
    "# вглянем на Медианы для оценки серьезности всей ситуации (т.к. они менее чувствительны к выбросам)\n",
    "print('Медианное время на прохождение pve:',\n",
    "     round(prof[prof['user_id'].isin(pve_users)].reset_index()['playtime'].median(),2)\n",
    ")\n",
    "print('Медианное время на прохождение pvp:',\n",
    "     round(prof[~prof['user_id'].isin(pve_users)].reset_index()['playtime'].median(),2)\n",
    ")\n",
    "print('Медианное количество построек pve:',\n",
    "      round(pve_df.groupby('user_id').agg({'event':'count'}).reset_index()['event'].median(),2)\n",
    ")\n",
    "print('Медианное количество построек pvp:',\n",
    "     round(pvp_df.groupby('user_id').agg({'event':'count'}).reset_index()['event'].median(),2)\n",
    ")"
   ]
  },
  {
   "cell_type": "markdown",
   "id": "653d9631",
   "metadata": {},
   "source": [
    "<div class=\"alert alert-success\">\n",
    "    <p><b>Комментарий тимлида: </b></p>\n",
    "    \n",
    "Практически невозможно получить такте различия при условии, что средние на самом деле равны.\n",
    "</div>"
   ]
  },
  {
   "cell_type": "markdown",
   "id": "b850efc1",
   "metadata": {},
   "source": [
    "## Вывод\n",
    "\n",
    "**В данной части мы проверили две гипотезы:**\n",
    "\n",
    "1) Время завершения уровня различается в зависимости способа прохождения: через реализацию проекта/через победу над первым игроком.\n",
    "\n",
    "2) Количество построенных зданий различается в зависимости от способа прохождения.\n",
    "\n",
    "В обоих случаях выбор был сделан в пользу альтернативных вариантов, т.е. среднее время завершения уровня *различается* в зависимости способа прохождени, как и количество построенных зданий.\n",
    "\n",
    "В свою очередь это показывает, что сейчас в игре наблюдается очень сильный дисбаланс стратегий:\n",
    "\n",
    "Пользователям невыгодно играть по ПВЕ правилам, т.к. это занимает больше времени, да и пвп всегда веселее. Необходимо серьёзно пересмотреть модель прокачки с вытекающим отсюда ослаблением эффективности ПВП сценария, баффом ПВЕ направления."
   ]
  },
  {
   "cell_type": "markdown",
   "id": "a0342dae",
   "metadata": {},
   "source": [
    "<div style=\"background:#d4d6fa; color:#000; padding:10px; margin-top:10px\">\n",
    "    <p><b> Комментарий тимлида: </b></p>\n",
    "    \n",
    "  \n",
    "Мы же не просто так проверяем эти гипотезы. Выше обнаружили, что в игре есть популярная быстрая стратегия. Следовательно, баланс в игре нарушен, и если ничего не делать, то pve стратегия может совсем выродиться (т.к. ода долгая и непопулярная, то контента на неё будет меньше). Потому нужно уже сейчас бежать к геймдизайнерам, чтобы они занялись правками баланса.\n",
    "</div>"
   ]
  },
  {
   "cell_type": "markdown",
   "id": "be1e742e",
   "metadata": {},
   "source": [
    "<a id=\"step5\"></a>\n",
    "# Общий вывод\n",
    "\n",
    "**В ходе данного проекта был выполнен анализ логов приложения «Космические братья». Сперва мы прочитали все данные, произвели полный спектр действий по их предобработке, подготовив их тем самым к дальшейнему анализу.**\n",
    "\n",
    "**После это мы принялись изучать наши данные:**\n",
    "\n",
    "- Кол-во логов (135640), \n",
    "\n",
    "- Кол-во уникальных пользователей(13576),\n",
    "\n",
    "- Кол-во перешедших на второй уровень (5817),\n",
    "\n",
    "- по ПВЕ сценарию (1866),\n",
    "\n",
    "- по ПВП сценарию (3951).\n",
    "\n",
    "Построена гистограмма распределение логов во времени, на ней явно выделяется пик с 10 на 11 мая, а после резкий спад. Проведя анализ мы сделали вывод о том, что пользователи очень активно играют первую неделю, после чего количество активностей идёт на спад. 10-11 мая в активной фазе были все наши пользователи (приходили с 4 по 10 мая), а начиная с 12 мая самая большая по численности группа (пришедшие 4ого мая) стала меньше играть.\n",
    "\n",
    "**В следующей части мы поделили наших пользователей на когорты (по дате их привлечения и каналу привлечения), вычислили среднюю стоимость привлечения в каждой когорте. Затем приступили к анализу эффективности рекламных каналов. По введеному нами параметру самым эффективным каналом стал Youtube, с небольшим оставанием от него Яндекс директ, дальше с большим оставанием от лидера 36 и 46 процентов соответственно идут Instagram и Facebook. Поведение пользователей практически не отличается, самую большую роль сыграла цена привлечения, эффективнее оказались те, где она ниже.**\n",
    "\n",
    "**Последним этапом была проверка гипотез:**\n",
    "\n",
    "1)  Время завершения уровня различается в зависимости способа прохождения: через реализацию проекта/через победу над первым игроком.\n",
    "\n",
    "2) Количество построенных зданий различается в зависимости от способа прохождения.\n",
    "\n",
    "В обоих случаях выбор был сделан в пользу альтернативных вариантов, т.е. среднее время завершения уровня различается в зависимости способа прохождени, как и количество построенных зданий.\n",
    "\n",
    "Время прохождения по сценарию ПВП экономит пользователю всреднем 72 часа, плюс строить приёдся среднем на 2 постройки меньше. Это нужно фиксить! ПвП и ПвЕ сценарии должны занимать примерно одинаковое время прохождения, плюс не должно быть разницы в количестве необходимых построек (всё-таки это наши денежки).\n",
    "\n",
    "**Рекомендация геймдизайнерам - срочно фиксить эффективность ПВП сценария или баффать показатели ПВЕ."
   ]
  },
  {
   "cell_type": "markdown",
   "id": "26f32281",
   "metadata": {},
   "source": [
    "<div style=\"background:#d4d6fa; color:#000; padding:10px; margin-top:10px\">\n",
    "    <p><b> Комментарий тимлида: </b></p>\n",
    "    \n",
    "Ждём-с\n",
    "</div>"
   ]
  }
 ],
 "metadata": {
  "ExecuteTimeLog": [
   {
    "duration": 122,
    "start_time": "2022-07-24T11:23:15.199Z"
   },
   {
    "duration": 473,
    "start_time": "2022-07-24T15:55:23.216Z"
   },
   {
    "duration": 458,
    "start_time": "2022-07-24T16:08:20.031Z"
   },
   {
    "duration": 0,
    "start_time": "2022-07-24T16:08:20.492Z"
   },
   {
    "duration": 0,
    "start_time": "2022-07-24T16:08:20.493Z"
   },
   {
    "duration": 0,
    "start_time": "2022-07-24T16:08:20.494Z"
   },
   {
    "duration": 0,
    "start_time": "2022-07-24T16:08:20.504Z"
   },
   {
    "duration": 0,
    "start_time": "2022-07-24T16:08:20.504Z"
   },
   {
    "duration": 0,
    "start_time": "2022-07-24T16:08:20.506Z"
   },
   {
    "duration": 0,
    "start_time": "2022-07-24T16:08:20.507Z"
   },
   {
    "duration": 0,
    "start_time": "2022-07-24T16:08:20.508Z"
   },
   {
    "duration": 0,
    "start_time": "2022-07-24T16:08:20.508Z"
   },
   {
    "duration": 0,
    "start_time": "2022-07-24T16:08:20.509Z"
   },
   {
    "duration": 0,
    "start_time": "2022-07-24T16:08:20.511Z"
   },
   {
    "duration": 0,
    "start_time": "2022-07-24T16:08:20.512Z"
   },
   {
    "duration": 0,
    "start_time": "2022-07-24T16:08:20.513Z"
   },
   {
    "duration": 0,
    "start_time": "2022-07-24T16:08:20.514Z"
   },
   {
    "duration": 0,
    "start_time": "2022-07-24T16:08:20.515Z"
   },
   {
    "duration": 0,
    "start_time": "2022-07-24T16:08:20.516Z"
   },
   {
    "duration": 0,
    "start_time": "2022-07-24T16:08:20.517Z"
   },
   {
    "duration": 0,
    "start_time": "2022-07-24T16:08:20.518Z"
   },
   {
    "duration": 0,
    "start_time": "2022-07-24T16:08:20.519Z"
   },
   {
    "duration": 0,
    "start_time": "2022-07-24T16:08:20.520Z"
   },
   {
    "duration": 0,
    "start_time": "2022-07-24T16:08:20.521Z"
   },
   {
    "duration": 0,
    "start_time": "2022-07-24T16:08:20.522Z"
   },
   {
    "duration": 0,
    "start_time": "2022-07-24T16:08:20.523Z"
   },
   {
    "duration": 0,
    "start_time": "2022-07-24T16:08:20.524Z"
   },
   {
    "duration": 0,
    "start_time": "2022-07-24T16:08:20.525Z"
   },
   {
    "duration": 0,
    "start_time": "2022-07-24T16:08:20.526Z"
   },
   {
    "duration": 0,
    "start_time": "2022-07-24T16:08:20.527Z"
   },
   {
    "duration": 0,
    "start_time": "2022-07-24T16:08:20.528Z"
   },
   {
    "duration": 0,
    "start_time": "2022-07-24T16:08:20.529Z"
   },
   {
    "duration": 0,
    "start_time": "2022-07-24T16:08:20.530Z"
   },
   {
    "duration": 0,
    "start_time": "2022-07-24T16:08:20.531Z"
   },
   {
    "duration": 928,
    "start_time": "2022-07-24T16:08:44.694Z"
   },
   {
    "duration": 4,
    "start_time": "2022-07-24T16:08:45.624Z"
   },
   {
    "duration": 83,
    "start_time": "2022-07-24T16:08:45.629Z"
   },
   {
    "duration": 50,
    "start_time": "2022-07-24T16:08:45.714Z"
   },
   {
    "duration": 0,
    "start_time": "2022-07-24T16:08:45.766Z"
   },
   {
    "duration": 0,
    "start_time": "2022-07-24T16:08:45.768Z"
   },
   {
    "duration": 0,
    "start_time": "2022-07-24T16:08:45.770Z"
   },
   {
    "duration": 0,
    "start_time": "2022-07-24T16:08:45.771Z"
   },
   {
    "duration": 0,
    "start_time": "2022-07-24T16:08:45.773Z"
   },
   {
    "duration": 0,
    "start_time": "2022-07-24T16:08:45.774Z"
   },
   {
    "duration": 0,
    "start_time": "2022-07-24T16:08:45.775Z"
   },
   {
    "duration": 0,
    "start_time": "2022-07-24T16:08:45.777Z"
   },
   {
    "duration": 0,
    "start_time": "2022-07-24T16:08:45.778Z"
   },
   {
    "duration": 0,
    "start_time": "2022-07-24T16:08:45.780Z"
   },
   {
    "duration": 0,
    "start_time": "2022-07-24T16:08:45.804Z"
   },
   {
    "duration": 0,
    "start_time": "2022-07-24T16:08:45.806Z"
   },
   {
    "duration": 0,
    "start_time": "2022-07-24T16:08:45.808Z"
   },
   {
    "duration": 0,
    "start_time": "2022-07-24T16:08:45.809Z"
   },
   {
    "duration": 0,
    "start_time": "2022-07-24T16:08:45.810Z"
   },
   {
    "duration": 0,
    "start_time": "2022-07-24T16:08:45.812Z"
   },
   {
    "duration": 0,
    "start_time": "2022-07-24T16:08:45.813Z"
   },
   {
    "duration": 0,
    "start_time": "2022-07-24T16:08:45.815Z"
   },
   {
    "duration": 0,
    "start_time": "2022-07-24T16:08:45.816Z"
   },
   {
    "duration": 0,
    "start_time": "2022-07-24T16:08:45.817Z"
   },
   {
    "duration": 0,
    "start_time": "2022-07-24T16:08:45.819Z"
   },
   {
    "duration": 0,
    "start_time": "2022-07-24T16:08:45.821Z"
   },
   {
    "duration": 0,
    "start_time": "2022-07-24T16:08:45.822Z"
   },
   {
    "duration": 0,
    "start_time": "2022-07-24T16:08:45.824Z"
   },
   {
    "duration": 0,
    "start_time": "2022-07-24T16:08:45.825Z"
   },
   {
    "duration": 0,
    "start_time": "2022-07-24T16:08:45.827Z"
   },
   {
    "duration": 0,
    "start_time": "2022-07-24T16:08:45.828Z"
   },
   {
    "duration": 0,
    "start_time": "2022-07-24T16:08:45.830Z"
   }
  ],
  "kernelspec": {
   "display_name": "Python 3 (ipykernel)",
   "language": "python",
   "name": "python3"
  },
  "language_info": {
   "codemirror_mode": {
    "name": "ipython",
    "version": 3
   },
   "file_extension": ".py",
   "mimetype": "text/x-python",
   "name": "python",
   "nbconvert_exporter": "python",
   "pygments_lexer": "ipython3",
   "version": "3.10.1"
  },
  "toc": {
   "base_numbering": 1,
   "nav_menu": {},
   "number_sections": true,
   "sideBar": true,
   "skip_h1_title": false,
   "title_cell": "Table of Contents",
   "title_sidebar": "Contents",
   "toc_cell": false,
   "toc_position": {},
   "toc_section_display": true,
   "toc_window_display": false
  }
 },
 "nbformat": 4,
 "nbformat_minor": 5
}
